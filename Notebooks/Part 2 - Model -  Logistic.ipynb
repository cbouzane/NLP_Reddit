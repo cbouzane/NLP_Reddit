{
 "cells": [
  {
   "cell_type": "code",
   "execution_count": 1,
   "metadata": {},
   "outputs": [],
   "source": [
    "import requests, json, time, re\n",
    "import pandas as pd\n",
    "import numpy as np\n",
    "from sklearn.feature_extraction.text import TfidfVectorizer\n",
    "from sklearn.ensemble import RandomForestClassifier\n",
    "from sklearn.model_selection import train_test_split, GridSearchCV\n",
    "import matplotlib.pyplot as plt\n",
    "import seaborn as sns\n",
    "from sklearn.linear_model import LogisticRegression\n",
    "from sklearn.naive_bayes import MultinomialNB\n",
    "%matplotlib inline"
   ]
  },
  {
   "cell_type": "code",
   "execution_count": 2,
   "metadata": {},
   "outputs": [],
   "source": [
    "legal = pd.read_csv(\"./legal_advice.csv\")"
   ]
  },
  {
   "cell_type": "code",
   "execution_count": 3,
   "metadata": {},
   "outputs": [],
   "source": [
    "unpopular = pd.read_csv(\"./unpopular_opinion.csv\")"
   ]
  },
  {
   "cell_type": "code",
   "execution_count": 4,
   "metadata": {},
   "outputs": [],
   "source": [
    "data = pd.concat([legal, unpopular], axis = 0)"
   ]
  },
  {
   "cell_type": "code",
   "execution_count": 5,
   "metadata": {
    "scrolled": false
   },
   "outputs": [
    {
     "data": {
      "text/html": [
       "<div>\n",
       "<style scoped>\n",
       "    .dataframe tbody tr th:only-of-type {\n",
       "        vertical-align: middle;\n",
       "    }\n",
       "\n",
       "    .dataframe tbody tr th {\n",
       "        vertical-align: top;\n",
       "    }\n",
       "\n",
       "    .dataframe thead th {\n",
       "        text-align: right;\n",
       "    }\n",
       "</style>\n",
       "<table border=\"1\" class=\"dataframe\">\n",
       "  <thead>\n",
       "    <tr style=\"text-align: right;\">\n",
       "      <th></th>\n",
       "      <th>title</th>\n",
       "      <th>posts</th>\n",
       "      <th>subreddit</th>\n",
       "    </tr>\n",
       "  </thead>\n",
       "  <tbody>\n",
       "    <tr>\n",
       "      <th>0</th>\n",
       "      <td>[Super Awesome Update] Sat down on my friend's...</td>\n",
       "      <td>I never thought this would turn out the way it...</td>\n",
       "      <td>legaladvice</td>\n",
       "    </tr>\n",
       "    <tr>\n",
       "      <th>1</th>\n",
       "      <td>(Update) Neighbors child has disabilities and ...</td>\n",
       "      <td>Original post: https://www.reddit.com/r/legala...</td>\n",
       "      <td>legaladvice</td>\n",
       "    </tr>\n",
       "    <tr>\n",
       "      <th>2</th>\n",
       "      <td>I think my boyfriend has been drugging me to m...</td>\n",
       "      <td>This is in north Texas. \\n\\nHey so I must apol...</td>\n",
       "      <td>legaladvice</td>\n",
       "    </tr>\n",
       "    <tr>\n",
       "      <th>3</th>\n",
       "      <td>Neighbors assaulted me and took my daughter (l...</td>\n",
       "      <td>Male, late 20’s, CO\\n\\nI quit drinking soda an...</td>\n",
       "      <td>legaladvice</td>\n",
       "    </tr>\n",
       "    <tr>\n",
       "      <th>4</th>\n",
       "      <td>I told my math teacher about my mother, and sh...</td>\n",
       "      <td>I got my 13 year old brother after school yest...</td>\n",
       "      <td>legaladvice</td>\n",
       "    </tr>\n",
       "  </tbody>\n",
       "</table>\n",
       "</div>"
      ],
      "text/plain": [
       "                                               title  \\\n",
       "0  [Super Awesome Update] Sat down on my friend's...   \n",
       "1  (Update) Neighbors child has disabilities and ...   \n",
       "2  I think my boyfriend has been drugging me to m...   \n",
       "3  Neighbors assaulted me and took my daughter (l...   \n",
       "4  I told my math teacher about my mother, and sh...   \n",
       "\n",
       "                                               posts    subreddit  \n",
       "0  I never thought this would turn out the way it...  legaladvice  \n",
       "1  Original post: https://www.reddit.com/r/legala...  legaladvice  \n",
       "2  This is in north Texas. \\n\\nHey so I must apol...  legaladvice  \n",
       "3  Male, late 20’s, CO\\n\\nI quit drinking soda an...  legaladvice  \n",
       "4  I got my 13 year old brother after school yest...  legaladvice  "
      ]
     },
     "execution_count": 5,
     "metadata": {},
     "output_type": "execute_result"
    }
   ],
   "source": [
    "data.head()"
   ]
  },
  {
   "cell_type": "code",
   "execution_count": 6,
   "metadata": {},
   "outputs": [],
   "source": [
    "data['text'] = data['title'] + data['posts']"
   ]
  },
  {
   "cell_type": "code",
   "execution_count": 7,
   "metadata": {},
   "outputs": [
    {
     "data": {
      "text/html": [
       "<div>\n",
       "<style scoped>\n",
       "    .dataframe tbody tr th:only-of-type {\n",
       "        vertical-align: middle;\n",
       "    }\n",
       "\n",
       "    .dataframe tbody tr th {\n",
       "        vertical-align: top;\n",
       "    }\n",
       "\n",
       "    .dataframe thead th {\n",
       "        text-align: right;\n",
       "    }\n",
       "</style>\n",
       "<table border=\"1\" class=\"dataframe\">\n",
       "  <thead>\n",
       "    <tr style=\"text-align: right;\">\n",
       "      <th></th>\n",
       "      <th>title</th>\n",
       "      <th>posts</th>\n",
       "      <th>subreddit</th>\n",
       "      <th>text</th>\n",
       "    </tr>\n",
       "  </thead>\n",
       "  <tbody>\n",
       "    <tr>\n",
       "      <th>0</th>\n",
       "      <td>[Super Awesome Update] Sat down on my friend's...</td>\n",
       "      <td>I never thought this would turn out the way it...</td>\n",
       "      <td>legaladvice</td>\n",
       "      <td>[Super Awesome Update] Sat down on my friend's...</td>\n",
       "    </tr>\n",
       "    <tr>\n",
       "      <th>1</th>\n",
       "      <td>(Update) Neighbors child has disabilities and ...</td>\n",
       "      <td>Original post: https://www.reddit.com/r/legala...</td>\n",
       "      <td>legaladvice</td>\n",
       "      <td>(Update) Neighbors child has disabilities and ...</td>\n",
       "    </tr>\n",
       "    <tr>\n",
       "      <th>2</th>\n",
       "      <td>I think my boyfriend has been drugging me to m...</td>\n",
       "      <td>This is in north Texas. \\n\\nHey so I must apol...</td>\n",
       "      <td>legaladvice</td>\n",
       "      <td>I think my boyfriend has been drugging me to m...</td>\n",
       "    </tr>\n",
       "    <tr>\n",
       "      <th>3</th>\n",
       "      <td>Neighbors assaulted me and took my daughter (l...</td>\n",
       "      <td>Male, late 20’s, CO\\n\\nI quit drinking soda an...</td>\n",
       "      <td>legaladvice</td>\n",
       "      <td>Neighbors assaulted me and took my daughter (l...</td>\n",
       "    </tr>\n",
       "    <tr>\n",
       "      <th>4</th>\n",
       "      <td>I told my math teacher about my mother, and sh...</td>\n",
       "      <td>I got my 13 year old brother after school yest...</td>\n",
       "      <td>legaladvice</td>\n",
       "      <td>I told my math teacher about my mother, and sh...</td>\n",
       "    </tr>\n",
       "  </tbody>\n",
       "</table>\n",
       "</div>"
      ],
      "text/plain": [
       "                                               title  \\\n",
       "0  [Super Awesome Update] Sat down on my friend's...   \n",
       "1  (Update) Neighbors child has disabilities and ...   \n",
       "2  I think my boyfriend has been drugging me to m...   \n",
       "3  Neighbors assaulted me and took my daughter (l...   \n",
       "4  I told my math teacher about my mother, and sh...   \n",
       "\n",
       "                                               posts    subreddit  \\\n",
       "0  I never thought this would turn out the way it...  legaladvice   \n",
       "1  Original post: https://www.reddit.com/r/legala...  legaladvice   \n",
       "2  This is in north Texas. \\n\\nHey so I must apol...  legaladvice   \n",
       "3  Male, late 20’s, CO\\n\\nI quit drinking soda an...  legaladvice   \n",
       "4  I got my 13 year old brother after school yest...  legaladvice   \n",
       "\n",
       "                                                text  \n",
       "0  [Super Awesome Update] Sat down on my friend's...  \n",
       "1  (Update) Neighbors child has disabilities and ...  \n",
       "2  I think my boyfriend has been drugging me to m...  \n",
       "3  Neighbors assaulted me and took my daughter (l...  \n",
       "4  I told my math teacher about my mother, and sh...  "
      ]
     },
     "execution_count": 7,
     "metadata": {},
     "output_type": "execute_result"
    }
   ],
   "source": [
    "data.head()"
   ]
  },
  {
   "cell_type": "code",
   "execution_count": 8,
   "metadata": {
    "scrolled": true
   },
   "outputs": [],
   "source": [
    "data['subreddit'].replace('legaladvice', 1, inplace=True)\n",
    "data['subreddit'].replace('unpopularopinion', 0, inplace=True)"
   ]
  },
  {
   "cell_type": "code",
   "execution_count": 9,
   "metadata": {},
   "outputs": [
    {
     "data": {
      "text/html": [
       "<div>\n",
       "<style scoped>\n",
       "    .dataframe tbody tr th:only-of-type {\n",
       "        vertical-align: middle;\n",
       "    }\n",
       "\n",
       "    .dataframe tbody tr th {\n",
       "        vertical-align: top;\n",
       "    }\n",
       "\n",
       "    .dataframe thead th {\n",
       "        text-align: right;\n",
       "    }\n",
       "</style>\n",
       "<table border=\"1\" class=\"dataframe\">\n",
       "  <thead>\n",
       "    <tr style=\"text-align: right;\">\n",
       "      <th></th>\n",
       "      <th>title</th>\n",
       "      <th>posts</th>\n",
       "      <th>subreddit</th>\n",
       "      <th>text</th>\n",
       "    </tr>\n",
       "  </thead>\n",
       "  <tbody>\n",
       "    <tr>\n",
       "      <th>0</th>\n",
       "      <td>[Super Awesome Update] Sat down on my friend's...</td>\n",
       "      <td>I never thought this would turn out the way it...</td>\n",
       "      <td>1</td>\n",
       "      <td>[Super Awesome Update] Sat down on my friend's...</td>\n",
       "    </tr>\n",
       "    <tr>\n",
       "      <th>1</th>\n",
       "      <td>(Update) Neighbors child has disabilities and ...</td>\n",
       "      <td>Original post: https://www.reddit.com/r/legala...</td>\n",
       "      <td>1</td>\n",
       "      <td>(Update) Neighbors child has disabilities and ...</td>\n",
       "    </tr>\n",
       "    <tr>\n",
       "      <th>2</th>\n",
       "      <td>I think my boyfriend has been drugging me to m...</td>\n",
       "      <td>This is in north Texas. \\n\\nHey so I must apol...</td>\n",
       "      <td>1</td>\n",
       "      <td>I think my boyfriend has been drugging me to m...</td>\n",
       "    </tr>\n",
       "    <tr>\n",
       "      <th>3</th>\n",
       "      <td>Neighbors assaulted me and took my daughter (l...</td>\n",
       "      <td>Male, late 20’s, CO\\n\\nI quit drinking soda an...</td>\n",
       "      <td>1</td>\n",
       "      <td>Neighbors assaulted me and took my daughter (l...</td>\n",
       "    </tr>\n",
       "    <tr>\n",
       "      <th>4</th>\n",
       "      <td>I told my math teacher about my mother, and sh...</td>\n",
       "      <td>I got my 13 year old brother after school yest...</td>\n",
       "      <td>1</td>\n",
       "      <td>I told my math teacher about my mother, and sh...</td>\n",
       "    </tr>\n",
       "  </tbody>\n",
       "</table>\n",
       "</div>"
      ],
      "text/plain": [
       "                                               title  \\\n",
       "0  [Super Awesome Update] Sat down on my friend's...   \n",
       "1  (Update) Neighbors child has disabilities and ...   \n",
       "2  I think my boyfriend has been drugging me to m...   \n",
       "3  Neighbors assaulted me and took my daughter (l...   \n",
       "4  I told my math teacher about my mother, and sh...   \n",
       "\n",
       "                                               posts  subreddit  \\\n",
       "0  I never thought this would turn out the way it...          1   \n",
       "1  Original post: https://www.reddit.com/r/legala...          1   \n",
       "2  This is in north Texas. \\n\\nHey so I must apol...          1   \n",
       "3  Male, late 20’s, CO\\n\\nI quit drinking soda an...          1   \n",
       "4  I got my 13 year old brother after school yest...          1   \n",
       "\n",
       "                                                text  \n",
       "0  [Super Awesome Update] Sat down on my friend's...  \n",
       "1  (Update) Neighbors child has disabilities and ...  \n",
       "2  I think my boyfriend has been drugging me to m...  \n",
       "3  Neighbors assaulted me and took my daughter (l...  \n",
       "4  I told my math teacher about my mother, and sh...  "
      ]
     },
     "execution_count": 9,
     "metadata": {},
     "output_type": "execute_result"
    }
   ],
   "source": [
    "data.head()"
   ]
  },
  {
   "cell_type": "code",
   "execution_count": 10,
   "metadata": {},
   "outputs": [
    {
     "data": {
      "text/plain": [
       "(2054, 4)"
      ]
     },
     "execution_count": 10,
     "metadata": {},
     "output_type": "execute_result"
    }
   ],
   "source": [
    "data.shape"
   ]
  },
  {
   "cell_type": "code",
   "execution_count": 11,
   "metadata": {
    "scrolled": true
   },
   "outputs": [],
   "source": [
    "data.drop_duplicates(inplace=True)"
   ]
  },
  {
   "cell_type": "code",
   "execution_count": 12,
   "metadata": {},
   "outputs": [
    {
     "data": {
      "text/plain": [
       "(1829, 4)"
      ]
     },
     "execution_count": 12,
     "metadata": {},
     "output_type": "execute_result"
    }
   ],
   "source": [
    "data.shape"
   ]
  },
  {
   "cell_type": "code",
   "execution_count": 13,
   "metadata": {
    "scrolled": true
   },
   "outputs": [
    {
     "data": {
      "text/plain": [
       "title        0\n",
       "posts        7\n",
       "subreddit    0\n",
       "text         7\n",
       "dtype: int64"
      ]
     },
     "execution_count": 13,
     "metadata": {},
     "output_type": "execute_result"
    }
   ],
   "source": [
    "data.isnull().sum()"
   ]
  },
  {
   "cell_type": "code",
   "execution_count": 14,
   "metadata": {
    "scrolled": false
   },
   "outputs": [
    {
     "data": {
      "text/html": [
       "<div>\n",
       "<style scoped>\n",
       "    .dataframe tbody tr th:only-of-type {\n",
       "        vertical-align: middle;\n",
       "    }\n",
       "\n",
       "    .dataframe tbody tr th {\n",
       "        vertical-align: top;\n",
       "    }\n",
       "\n",
       "    .dataframe thead th {\n",
       "        text-align: right;\n",
       "    }\n",
       "</style>\n",
       "<table border=\"1\" class=\"dataframe\">\n",
       "  <thead>\n",
       "    <tr style=\"text-align: right;\">\n",
       "      <th></th>\n",
       "      <th>title</th>\n",
       "      <th>posts</th>\n",
       "      <th>subreddit</th>\n",
       "      <th>text</th>\n",
       "    </tr>\n",
       "  </thead>\n",
       "  <tbody>\n",
       "    <tr>\n",
       "      <th>11</th>\n",
       "      <td>Deadbeat dad ditched my mom when she was pregn...</td>\n",
       "      <td>NaN</td>\n",
       "      <td>1</td>\n",
       "      <td>NaN</td>\n",
       "    </tr>\n",
       "    <tr>\n",
       "      <th>83</th>\n",
       "      <td>NY- I sent a rent check to landlord who then c...</td>\n",
       "      <td>NaN</td>\n",
       "      <td>1</td>\n",
       "      <td>NaN</td>\n",
       "    </tr>\n",
       "    <tr>\n",
       "      <th>206</th>\n",
       "      <td>I work for a privately owned brewery/restauran...</td>\n",
       "      <td>NaN</td>\n",
       "      <td>1</td>\n",
       "      <td>NaN</td>\n",
       "    </tr>\n",
       "    <tr>\n",
       "      <th>304</th>\n",
       "      <td>Police Officer: I am going to search your vehi...</td>\n",
       "      <td>NaN</td>\n",
       "      <td>1</td>\n",
       "      <td>NaN</td>\n",
       "    </tr>\n",
       "    <tr>\n",
       "      <th>459</th>\n",
       "      <td>i’m 16 and from england my grandad passed and ...</td>\n",
       "      <td>NaN</td>\n",
       "      <td>1</td>\n",
       "      <td>NaN</td>\n",
       "    </tr>\n",
       "    <tr>\n",
       "      <th>592</th>\n",
       "      <td>FL: My schizophrenic neighbor has over 30 time...</td>\n",
       "      <td>NaN</td>\n",
       "      <td>1</td>\n",
       "      <td>NaN</td>\n",
       "    </tr>\n",
       "    <tr>\n",
       "      <th>643</th>\n",
       "      <td>TN: Work overpaid me ($15,000 instead of $1500...</td>\n",
       "      <td>NaN</td>\n",
       "      <td>1</td>\n",
       "      <td>NaN</td>\n",
       "    </tr>\n",
       "  </tbody>\n",
       "</table>\n",
       "</div>"
      ],
      "text/plain": [
       "                                                 title posts  subreddit text\n",
       "11   Deadbeat dad ditched my mom when she was pregn...   NaN          1  NaN\n",
       "83   NY- I sent a rent check to landlord who then c...   NaN          1  NaN\n",
       "206  I work for a privately owned brewery/restauran...   NaN          1  NaN\n",
       "304  Police Officer: I am going to search your vehi...   NaN          1  NaN\n",
       "459  i’m 16 and from england my grandad passed and ...   NaN          1  NaN\n",
       "592  FL: My schizophrenic neighbor has over 30 time...   NaN          1  NaN\n",
       "643  TN: Work overpaid me ($15,000 instead of $1500...   NaN          1  NaN"
      ]
     },
     "execution_count": 14,
     "metadata": {},
     "output_type": "execute_result"
    }
   ],
   "source": [
    "data[data['text'].isnull()]"
   ]
  },
  {
   "cell_type": "code",
   "execution_count": 15,
   "metadata": {},
   "outputs": [],
   "source": [
    "data.replace(np.nan, \"\", inplace = True)"
   ]
  },
  {
   "cell_type": "code",
   "execution_count": 16,
   "metadata": {
    "scrolled": true
   },
   "outputs": [
    {
     "data": {
      "text/html": [
       "<div>\n",
       "<style scoped>\n",
       "    .dataframe tbody tr th:only-of-type {\n",
       "        vertical-align: middle;\n",
       "    }\n",
       "\n",
       "    .dataframe tbody tr th {\n",
       "        vertical-align: top;\n",
       "    }\n",
       "\n",
       "    .dataframe thead th {\n",
       "        text-align: right;\n",
       "    }\n",
       "</style>\n",
       "<table border=\"1\" class=\"dataframe\">\n",
       "  <thead>\n",
       "    <tr style=\"text-align: right;\">\n",
       "      <th></th>\n",
       "      <th>title</th>\n",
       "      <th>posts</th>\n",
       "      <th>subreddit</th>\n",
       "      <th>text</th>\n",
       "    </tr>\n",
       "  </thead>\n",
       "  <tbody>\n",
       "  </tbody>\n",
       "</table>\n",
       "</div>"
      ],
      "text/plain": [
       "Empty DataFrame\n",
       "Columns: [title, posts, subreddit, text]\n",
       "Index: []"
      ]
     },
     "execution_count": 16,
     "metadata": {},
     "output_type": "execute_result"
    }
   ],
   "source": [
    "data[data['text'].isnull()]"
   ]
  },
  {
   "cell_type": "code",
   "execution_count": 17,
   "metadata": {},
   "outputs": [
    {
     "data": {
      "text/plain": [
       "1    0.533625\n",
       "0    0.466375\n",
       "Name: subreddit, dtype: float64"
      ]
     },
     "execution_count": 17,
     "metadata": {},
     "output_type": "execute_result"
    }
   ],
   "source": [
    "data['subreddit'].value_counts(normalize=True) # my benchmark (53%)"
   ]
  },
  {
   "cell_type": "code",
   "execution_count": 18,
   "metadata": {},
   "outputs": [],
   "source": [
    "data['text'] = data.posts.map(lambda x: re.sub('\\s[\\/]?r\\/[^s]+', ' ', x)) # getting rid of slashes and spaces\n",
    "data['text'] = data.posts.map(lambda x: re.sub('http[s]?:\\/\\/[^\\s]*', ' ', x)) # getting rid of url\n",
    "data['text'] = data.posts.map(lambda x: re.sub('(legal|advice)[s]?', ' ', x,  flags=re.I))\n",
    "data['text'] = data.posts.map(lambda x: re.sub('(unpopular|opinion)[s]?', ' ', x,  flags=re.I))"
   ]
  },
  {
   "cell_type": "code",
   "execution_count": 19,
   "metadata": {},
   "outputs": [
    {
     "data": {
      "text/html": [
       "<div>\n",
       "<style scoped>\n",
       "    .dataframe tbody tr th:only-of-type {\n",
       "        vertical-align: middle;\n",
       "    }\n",
       "\n",
       "    .dataframe tbody tr th {\n",
       "        vertical-align: top;\n",
       "    }\n",
       "\n",
       "    .dataframe thead th {\n",
       "        text-align: right;\n",
       "    }\n",
       "</style>\n",
       "<table border=\"1\" class=\"dataframe\">\n",
       "  <thead>\n",
       "    <tr style=\"text-align: right;\">\n",
       "      <th></th>\n",
       "      <th>title</th>\n",
       "      <th>posts</th>\n",
       "      <th>subreddit</th>\n",
       "      <th>text</th>\n",
       "    </tr>\n",
       "  </thead>\n",
       "  <tbody>\n",
       "    <tr>\n",
       "      <th>0</th>\n",
       "      <td>[Super Awesome Update] Sat down on my friend's...</td>\n",
       "      <td>I never thought this would turn out the way it...</td>\n",
       "      <td>1</td>\n",
       "      <td>I never thought this would turn out the way it...</td>\n",
       "    </tr>\n",
       "    <tr>\n",
       "      <th>1</th>\n",
       "      <td>(Update) Neighbors child has disabilities and ...</td>\n",
       "      <td>Original post: https://www.reddit.com/r/legala...</td>\n",
       "      <td>1</td>\n",
       "      <td>Original post: https://www.reddit.com/r/legala...</td>\n",
       "    </tr>\n",
       "    <tr>\n",
       "      <th>2</th>\n",
       "      <td>I think my boyfriend has been drugging me to m...</td>\n",
       "      <td>This is in north Texas. \\n\\nHey so I must apol...</td>\n",
       "      <td>1</td>\n",
       "      <td>This is in north Texas. \\n\\nHey so I must apol...</td>\n",
       "    </tr>\n",
       "    <tr>\n",
       "      <th>3</th>\n",
       "      <td>Neighbors assaulted me and took my daughter (l...</td>\n",
       "      <td>Male, late 20’s, CO\\n\\nI quit drinking soda an...</td>\n",
       "      <td>1</td>\n",
       "      <td>Male, late 20’s, CO\\n\\nI quit drinking soda an...</td>\n",
       "    </tr>\n",
       "    <tr>\n",
       "      <th>4</th>\n",
       "      <td>I told my math teacher about my mother, and sh...</td>\n",
       "      <td>I got my 13 year old brother after school yest...</td>\n",
       "      <td>1</td>\n",
       "      <td>I got my 13 year old brother after school yest...</td>\n",
       "    </tr>\n",
       "  </tbody>\n",
       "</table>\n",
       "</div>"
      ],
      "text/plain": [
       "                                               title  \\\n",
       "0  [Super Awesome Update] Sat down on my friend's...   \n",
       "1  (Update) Neighbors child has disabilities and ...   \n",
       "2  I think my boyfriend has been drugging me to m...   \n",
       "3  Neighbors assaulted me and took my daughter (l...   \n",
       "4  I told my math teacher about my mother, and sh...   \n",
       "\n",
       "                                               posts  subreddit  \\\n",
       "0  I never thought this would turn out the way it...          1   \n",
       "1  Original post: https://www.reddit.com/r/legala...          1   \n",
       "2  This is in north Texas. \\n\\nHey so I must apol...          1   \n",
       "3  Male, late 20’s, CO\\n\\nI quit drinking soda an...          1   \n",
       "4  I got my 13 year old brother after school yest...          1   \n",
       "\n",
       "                                                text  \n",
       "0  I never thought this would turn out the way it...  \n",
       "1  Original post: https://www.reddit.com/r/legala...  \n",
       "2  This is in north Texas. \\n\\nHey so I must apol...  \n",
       "3  Male, late 20’s, CO\\n\\nI quit drinking soda an...  \n",
       "4  I got my 13 year old brother after school yest...  "
      ]
     },
     "execution_count": 19,
     "metadata": {},
     "output_type": "execute_result"
    }
   ],
   "source": [
    "data.head()"
   ]
  },
  {
   "cell_type": "code",
   "execution_count": 20,
   "metadata": {},
   "outputs": [],
   "source": [
    "X = data.drop('subreddit', 1)\n",
    "y = data['subreddit']"
   ]
  },
  {
   "cell_type": "code",
   "execution_count": 21,
   "metadata": {},
   "outputs": [],
   "source": [
    "X_train, X_test, y_train, y_test = train_test_split(X,y, test_size=0.3, stratify=y, random_state=24)"
   ]
  },
  {
   "cell_type": "code",
   "execution_count": 22,
   "metadata": {},
   "outputs": [],
   "source": [
    "tfidf = TfidfVectorizer(stop_words='english', max_df=.80, min_df=5, max_features=1_000) # max features "
   ]
  },
  {
   "cell_type": "code",
   "execution_count": 23,
   "metadata": {},
   "outputs": [],
   "source": [
    "train_raw = tfidf.fit_transform(X_train['text'])"
   ]
  },
  {
   "cell_type": "code",
   "execution_count": 24,
   "metadata": {},
   "outputs": [
    {
     "data": {
      "text/html": [
       "<div>\n",
       "<style scoped>\n",
       "    .dataframe tbody tr th:only-of-type {\n",
       "        vertical-align: middle;\n",
       "    }\n",
       "\n",
       "    .dataframe tbody tr th {\n",
       "        vertical-align: top;\n",
       "    }\n",
       "\n",
       "    .dataframe thead th {\n",
       "        text-align: right;\n",
       "    }\n",
       "</style>\n",
       "<table border=\"1\" class=\"dataframe\">\n",
       "  <thead>\n",
       "    <tr style=\"text-align: right;\">\n",
       "      <th></th>\n",
       "      <th>000</th>\n",
       "      <th>10</th>\n",
       "      <th>100</th>\n",
       "      <th>11</th>\n",
       "      <th>12</th>\n",
       "      <th>13</th>\n",
       "      <th>14</th>\n",
       "      <th>15</th>\n",
       "      <th>18</th>\n",
       "      <th>20</th>\n",
       "      <th>...</th>\n",
       "      <th>wrote</th>\n",
       "      <th>www</th>\n",
       "      <th>x200b</th>\n",
       "      <th>yard</th>\n",
       "      <th>yeah</th>\n",
       "      <th>year</th>\n",
       "      <th>years</th>\n",
       "      <th>yes</th>\n",
       "      <th>yesterday</th>\n",
       "      <th>young</th>\n",
       "    </tr>\n",
       "  </thead>\n",
       "  <tbody>\n",
       "    <tr>\n",
       "      <th>0</th>\n",
       "      <td>NaN</td>\n",
       "      <td>NaN</td>\n",
       "      <td>NaN</td>\n",
       "      <td>NaN</td>\n",
       "      <td>NaN</td>\n",
       "      <td>NaN</td>\n",
       "      <td>NaN</td>\n",
       "      <td>NaN</td>\n",
       "      <td>NaN</td>\n",
       "      <td>NaN</td>\n",
       "      <td>...</td>\n",
       "      <td>NaN</td>\n",
       "      <td>NaN</td>\n",
       "      <td>NaN</td>\n",
       "      <td>NaN</td>\n",
       "      <td>NaN</td>\n",
       "      <td>NaN</td>\n",
       "      <td>NaN</td>\n",
       "      <td>NaN</td>\n",
       "      <td>NaN</td>\n",
       "      <td>NaN</td>\n",
       "    </tr>\n",
       "    <tr>\n",
       "      <th>1</th>\n",
       "      <td>NaN</td>\n",
       "      <td>NaN</td>\n",
       "      <td>NaN</td>\n",
       "      <td>NaN</td>\n",
       "      <td>NaN</td>\n",
       "      <td>NaN</td>\n",
       "      <td>NaN</td>\n",
       "      <td>NaN</td>\n",
       "      <td>NaN</td>\n",
       "      <td>NaN</td>\n",
       "      <td>...</td>\n",
       "      <td>NaN</td>\n",
       "      <td>0.102592</td>\n",
       "      <td>NaN</td>\n",
       "      <td>NaN</td>\n",
       "      <td>NaN</td>\n",
       "      <td>NaN</td>\n",
       "      <td>NaN</td>\n",
       "      <td>NaN</td>\n",
       "      <td>NaN</td>\n",
       "      <td>NaN</td>\n",
       "    </tr>\n",
       "    <tr>\n",
       "      <th>2</th>\n",
       "      <td>NaN</td>\n",
       "      <td>NaN</td>\n",
       "      <td>NaN</td>\n",
       "      <td>NaN</td>\n",
       "      <td>NaN</td>\n",
       "      <td>NaN</td>\n",
       "      <td>NaN</td>\n",
       "      <td>NaN</td>\n",
       "      <td>NaN</td>\n",
       "      <td>NaN</td>\n",
       "      <td>...</td>\n",
       "      <td>NaN</td>\n",
       "      <td>NaN</td>\n",
       "      <td>NaN</td>\n",
       "      <td>NaN</td>\n",
       "      <td>NaN</td>\n",
       "      <td>NaN</td>\n",
       "      <td>0.143471</td>\n",
       "      <td>NaN</td>\n",
       "      <td>NaN</td>\n",
       "      <td>NaN</td>\n",
       "    </tr>\n",
       "    <tr>\n",
       "      <th>3</th>\n",
       "      <td>NaN</td>\n",
       "      <td>NaN</td>\n",
       "      <td>NaN</td>\n",
       "      <td>NaN</td>\n",
       "      <td>NaN</td>\n",
       "      <td>NaN</td>\n",
       "      <td>NaN</td>\n",
       "      <td>NaN</td>\n",
       "      <td>NaN</td>\n",
       "      <td>NaN</td>\n",
       "      <td>...</td>\n",
       "      <td>NaN</td>\n",
       "      <td>NaN</td>\n",
       "      <td>NaN</td>\n",
       "      <td>NaN</td>\n",
       "      <td>NaN</td>\n",
       "      <td>0.06319</td>\n",
       "      <td>0.059240</td>\n",
       "      <td>NaN</td>\n",
       "      <td>NaN</td>\n",
       "      <td>NaN</td>\n",
       "    </tr>\n",
       "    <tr>\n",
       "      <th>4</th>\n",
       "      <td>NaN</td>\n",
       "      <td>NaN</td>\n",
       "      <td>NaN</td>\n",
       "      <td>NaN</td>\n",
       "      <td>NaN</td>\n",
       "      <td>NaN</td>\n",
       "      <td>NaN</td>\n",
       "      <td>NaN</td>\n",
       "      <td>NaN</td>\n",
       "      <td>NaN</td>\n",
       "      <td>...</td>\n",
       "      <td>NaN</td>\n",
       "      <td>NaN</td>\n",
       "      <td>NaN</td>\n",
       "      <td>NaN</td>\n",
       "      <td>NaN</td>\n",
       "      <td>NaN</td>\n",
       "      <td>NaN</td>\n",
       "      <td>NaN</td>\n",
       "      <td>NaN</td>\n",
       "      <td>NaN</td>\n",
       "    </tr>\n",
       "  </tbody>\n",
       "</table>\n",
       "<p>5 rows × 1000 columns</p>\n",
       "</div>"
      ],
      "text/plain": [
       "   000  10  100  11  12  13  14  15  18  20  ...  wrote       www  x200b  \\\n",
       "0  NaN NaN  NaN NaN NaN NaN NaN NaN NaN NaN  ...    NaN       NaN    NaN   \n",
       "1  NaN NaN  NaN NaN NaN NaN NaN NaN NaN NaN  ...    NaN  0.102592    NaN   \n",
       "2  NaN NaN  NaN NaN NaN NaN NaN NaN NaN NaN  ...    NaN       NaN    NaN   \n",
       "3  NaN NaN  NaN NaN NaN NaN NaN NaN NaN NaN  ...    NaN       NaN    NaN   \n",
       "4  NaN NaN  NaN NaN NaN NaN NaN NaN NaN NaN  ...    NaN       NaN    NaN   \n",
       "\n",
       "   yard  yeah     year     years  yes  yesterday  young  \n",
       "0   NaN   NaN      NaN       NaN  NaN        NaN    NaN  \n",
       "1   NaN   NaN      NaN       NaN  NaN        NaN    NaN  \n",
       "2   NaN   NaN      NaN  0.143471  NaN        NaN    NaN  \n",
       "3   NaN   NaN  0.06319  0.059240  NaN        NaN    NaN  \n",
       "4   NaN   NaN      NaN       NaN  NaN        NaN    NaN  \n",
       "\n",
       "[5 rows x 1000 columns]"
      ]
     },
     "execution_count": 24,
     "metadata": {},
     "output_type": "execute_result"
    }
   ],
   "source": [
    "train_df = pd.SparseDataFrame(train_raw, columns=tfidf.get_feature_names())\n",
    "\n",
    "train_df.head()"
   ]
  },
  {
   "cell_type": "code",
   "execution_count": 25,
   "metadata": {},
   "outputs": [],
   "source": [
    "train_df.fillna(0, inplace=True)"
   ]
  },
  {
   "cell_type": "code",
   "execution_count": 26,
   "metadata": {
    "scrolled": true
   },
   "outputs": [
    {
     "data": {
      "text/plain": [
       "000           0\n",
       "10            0\n",
       "100           0\n",
       "11            0\n",
       "12            0\n",
       "13            0\n",
       "14            0\n",
       "15            0\n",
       "18            0\n",
       "20            0\n",
       "2018          0\n",
       "30            0\n",
       "50            0\n",
       "able          0\n",
       "absolutely    0\n",
       "abuse         0\n",
       "accept        0\n",
       "access        0\n",
       "accident      0\n",
       "according     0\n",
       "account       0\n",
       "accused       0\n",
       "act           0\n",
       "action        0\n",
       "actions       0\n",
       "actual        0\n",
       "actually      0\n",
       "add           0\n",
       "address       0\n",
       "admit         0\n",
       "             ..\n",
       "won           0\n",
       "wondering     0\n",
       "word          0\n",
       "words         0\n",
       "work          0\n",
       "worked        0\n",
       "worker        0\n",
       "working       0\n",
       "works         0\n",
       "world         0\n",
       "worried       0\n",
       "worry         0\n",
       "worse         0\n",
       "worst         0\n",
       "worth         0\n",
       "wouldn        0\n",
       "write         0\n",
       "writing       0\n",
       "written       0\n",
       "wrong         0\n",
       "wrote         0\n",
       "www           0\n",
       "x200b         0\n",
       "yard          0\n",
       "yeah          0\n",
       "year          0\n",
       "years         0\n",
       "yes           0\n",
       "yesterday     0\n",
       "young         0\n",
       "Length: 1000, dtype: int64"
      ]
     },
     "execution_count": 26,
     "metadata": {},
     "output_type": "execute_result"
    }
   ],
   "source": [
    "train_df.isnull().sum()"
   ]
  },
  {
   "cell_type": "code",
   "execution_count": 27,
   "metadata": {
    "scrolled": true
   },
   "outputs": [
    {
     "data": {
      "text/html": [
       "<div>\n",
       "<style scoped>\n",
       "    .dataframe tbody tr th:only-of-type {\n",
       "        vertical-align: middle;\n",
       "    }\n",
       "\n",
       "    .dataframe tbody tr th {\n",
       "        vertical-align: top;\n",
       "    }\n",
       "\n",
       "    .dataframe thead th {\n",
       "        text-align: right;\n",
       "    }\n",
       "</style>\n",
       "<table border=\"1\" class=\"dataframe\">\n",
       "  <thead>\n",
       "    <tr style=\"text-align: right;\">\n",
       "      <th></th>\n",
       "      <th>title</th>\n",
       "      <th>posts</th>\n",
       "      <th>text</th>\n",
       "    </tr>\n",
       "  </thead>\n",
       "  <tbody>\n",
       "    <tr>\n",
       "      <th>415</th>\n",
       "      <td>Tittyfucking is Fraud, Plain and Simple</td>\n",
       "      <td>Coffee and popcorn smell better than they tast...</td>\n",
       "      <td>Coffee and popcorn smell better than they tast...</td>\n",
       "    </tr>\n",
       "    <tr>\n",
       "      <th>191</th>\n",
       "      <td>Non-Americans bashing America and its citizens...</td>\n",
       "      <td>...especially if their country directly benefi...</td>\n",
       "      <td>...especially if their country directly benefi...</td>\n",
       "    </tr>\n",
       "    <tr>\n",
       "      <th>248</th>\n",
       "      <td>[California] I cancelled tattoo appointment be...</td>\n",
       "      <td>I had an appointment for a huge tattoo that wa...</td>\n",
       "      <td>I had an appointment for a huge tattoo that wa...</td>\n",
       "    </tr>\n",
       "    <tr>\n",
       "      <th>286</th>\n",
       "      <td>Singers should not be allowed on Talent shows ...</td>\n",
       "      <td>So much good talent is eliminated when matched...</td>\n",
       "      <td>So much good talent is eliminated when matched...</td>\n",
       "    </tr>\n",
       "    <tr>\n",
       "      <th>240</th>\n",
       "      <td>I really like traffic</td>\n",
       "      <td>I get anxiety about death, and car accidents d...</td>\n",
       "      <td>I get anxiety about death, and car accidents d...</td>\n",
       "    </tr>\n",
       "  </tbody>\n",
       "</table>\n",
       "</div>"
      ],
      "text/plain": [
       "                                                 title  \\\n",
       "415            Tittyfucking is Fraud, Plain and Simple   \n",
       "191  Non-Americans bashing America and its citizens...   \n",
       "248  [California] I cancelled tattoo appointment be...   \n",
       "286  Singers should not be allowed on Talent shows ...   \n",
       "240                              I really like traffic   \n",
       "\n",
       "                                                 posts  \\\n",
       "415  Coffee and popcorn smell better than they tast...   \n",
       "191  ...especially if their country directly benefi...   \n",
       "248  I had an appointment for a huge tattoo that wa...   \n",
       "286  So much good talent is eliminated when matched...   \n",
       "240  I get anxiety about death, and car accidents d...   \n",
       "\n",
       "                                                  text  \n",
       "415  Coffee and popcorn smell better than they tast...  \n",
       "191  ...especially if their country directly benefi...  \n",
       "248  I had an appointment for a huge tattoo that wa...  \n",
       "286  So much good talent is eliminated when matched...  \n",
       "240  I get anxiety about death, and car accidents d...  "
      ]
     },
     "execution_count": 27,
     "metadata": {},
     "output_type": "execute_result"
    }
   ],
   "source": [
    "X_test.head()"
   ]
  },
  {
   "cell_type": "code",
   "execution_count": 28,
   "metadata": {
    "scrolled": true
   },
   "outputs": [
    {
     "data": {
      "text/html": [
       "<div>\n",
       "<style scoped>\n",
       "    .dataframe tbody tr th:only-of-type {\n",
       "        vertical-align: middle;\n",
       "    }\n",
       "\n",
       "    .dataframe tbody tr th {\n",
       "        vertical-align: top;\n",
       "    }\n",
       "\n",
       "    .dataframe thead th {\n",
       "        text-align: right;\n",
       "    }\n",
       "</style>\n",
       "<table border=\"1\" class=\"dataframe\">\n",
       "  <thead>\n",
       "    <tr style=\"text-align: right;\">\n",
       "      <th></th>\n",
       "      <th>000</th>\n",
       "      <th>10</th>\n",
       "      <th>100</th>\n",
       "      <th>11</th>\n",
       "      <th>12</th>\n",
       "      <th>13</th>\n",
       "      <th>14</th>\n",
       "      <th>15</th>\n",
       "      <th>18</th>\n",
       "      <th>20</th>\n",
       "      <th>...</th>\n",
       "      <th>wrote</th>\n",
       "      <th>www</th>\n",
       "      <th>x200b</th>\n",
       "      <th>yard</th>\n",
       "      <th>yeah</th>\n",
       "      <th>year</th>\n",
       "      <th>years</th>\n",
       "      <th>yes</th>\n",
       "      <th>yesterday</th>\n",
       "      <th>young</th>\n",
       "    </tr>\n",
       "  </thead>\n",
       "  <tbody>\n",
       "    <tr>\n",
       "      <th>0</th>\n",
       "      <td>0.0</td>\n",
       "      <td>0.0</td>\n",
       "      <td>0.0</td>\n",
       "      <td>0.0</td>\n",
       "      <td>0.0</td>\n",
       "      <td>0.0</td>\n",
       "      <td>0.0</td>\n",
       "      <td>0.0</td>\n",
       "      <td>0.0</td>\n",
       "      <td>0.0</td>\n",
       "      <td>...</td>\n",
       "      <td>0.0</td>\n",
       "      <td>0.0</td>\n",
       "      <td>0.0</td>\n",
       "      <td>0.0</td>\n",
       "      <td>0.0</td>\n",
       "      <td>0.0</td>\n",
       "      <td>0.0</td>\n",
       "      <td>0.0</td>\n",
       "      <td>0.0</td>\n",
       "      <td>0.0</td>\n",
       "    </tr>\n",
       "    <tr>\n",
       "      <th>1</th>\n",
       "      <td>0.0</td>\n",
       "      <td>0.0</td>\n",
       "      <td>0.0</td>\n",
       "      <td>0.0</td>\n",
       "      <td>0.0</td>\n",
       "      <td>0.0</td>\n",
       "      <td>0.0</td>\n",
       "      <td>0.0</td>\n",
       "      <td>0.0</td>\n",
       "      <td>0.0</td>\n",
       "      <td>...</td>\n",
       "      <td>0.0</td>\n",
       "      <td>0.0</td>\n",
       "      <td>0.0</td>\n",
       "      <td>0.0</td>\n",
       "      <td>0.0</td>\n",
       "      <td>0.0</td>\n",
       "      <td>0.0</td>\n",
       "      <td>0.0</td>\n",
       "      <td>0.0</td>\n",
       "      <td>0.0</td>\n",
       "    </tr>\n",
       "    <tr>\n",
       "      <th>2</th>\n",
       "      <td>0.0</td>\n",
       "      <td>0.0</td>\n",
       "      <td>0.0</td>\n",
       "      <td>0.0</td>\n",
       "      <td>0.0</td>\n",
       "      <td>0.0</td>\n",
       "      <td>0.0</td>\n",
       "      <td>0.0</td>\n",
       "      <td>0.0</td>\n",
       "      <td>0.0</td>\n",
       "      <td>...</td>\n",
       "      <td>0.0</td>\n",
       "      <td>0.0</td>\n",
       "      <td>0.0</td>\n",
       "      <td>0.0</td>\n",
       "      <td>0.0</td>\n",
       "      <td>0.0</td>\n",
       "      <td>0.0</td>\n",
       "      <td>0.0</td>\n",
       "      <td>0.0</td>\n",
       "      <td>0.0</td>\n",
       "    </tr>\n",
       "    <tr>\n",
       "      <th>3</th>\n",
       "      <td>0.0</td>\n",
       "      <td>0.0</td>\n",
       "      <td>0.0</td>\n",
       "      <td>0.0</td>\n",
       "      <td>0.0</td>\n",
       "      <td>0.0</td>\n",
       "      <td>0.0</td>\n",
       "      <td>0.0</td>\n",
       "      <td>0.0</td>\n",
       "      <td>0.0</td>\n",
       "      <td>...</td>\n",
       "      <td>0.0</td>\n",
       "      <td>0.0</td>\n",
       "      <td>0.0</td>\n",
       "      <td>0.0</td>\n",
       "      <td>0.0</td>\n",
       "      <td>0.0</td>\n",
       "      <td>0.0</td>\n",
       "      <td>0.0</td>\n",
       "      <td>0.0</td>\n",
       "      <td>0.0</td>\n",
       "    </tr>\n",
       "    <tr>\n",
       "      <th>4</th>\n",
       "      <td>0.0</td>\n",
       "      <td>0.0</td>\n",
       "      <td>0.0</td>\n",
       "      <td>0.0</td>\n",
       "      <td>0.0</td>\n",
       "      <td>0.0</td>\n",
       "      <td>0.0</td>\n",
       "      <td>0.0</td>\n",
       "      <td>0.0</td>\n",
       "      <td>0.0</td>\n",
       "      <td>...</td>\n",
       "      <td>0.0</td>\n",
       "      <td>0.0</td>\n",
       "      <td>0.0</td>\n",
       "      <td>0.0</td>\n",
       "      <td>0.0</td>\n",
       "      <td>0.0</td>\n",
       "      <td>0.0</td>\n",
       "      <td>0.0</td>\n",
       "      <td>0.0</td>\n",
       "      <td>0.0</td>\n",
       "    </tr>\n",
       "  </tbody>\n",
       "</table>\n",
       "<p>5 rows × 1000 columns</p>\n",
       "</div>"
      ],
      "text/plain": [
       "   000   10  100   11   12   13   14   15   18   20  ...  wrote  www  x200b  \\\n",
       "0  0.0  0.0  0.0  0.0  0.0  0.0  0.0  0.0  0.0  0.0  ...    0.0  0.0    0.0   \n",
       "1  0.0  0.0  0.0  0.0  0.0  0.0  0.0  0.0  0.0  0.0  ...    0.0  0.0    0.0   \n",
       "2  0.0  0.0  0.0  0.0  0.0  0.0  0.0  0.0  0.0  0.0  ...    0.0  0.0    0.0   \n",
       "3  0.0  0.0  0.0  0.0  0.0  0.0  0.0  0.0  0.0  0.0  ...    0.0  0.0    0.0   \n",
       "4  0.0  0.0  0.0  0.0  0.0  0.0  0.0  0.0  0.0  0.0  ...    0.0  0.0    0.0   \n",
       "\n",
       "   yard  yeah  year  years  yes  yesterday  young  \n",
       "0   0.0   0.0   0.0    0.0  0.0        0.0    0.0  \n",
       "1   0.0   0.0   0.0    0.0  0.0        0.0    0.0  \n",
       "2   0.0   0.0   0.0    0.0  0.0        0.0    0.0  \n",
       "3   0.0   0.0   0.0    0.0  0.0        0.0    0.0  \n",
       "4   0.0   0.0   0.0    0.0  0.0        0.0    0.0  \n",
       "\n",
       "[5 rows x 1000 columns]"
      ]
     },
     "execution_count": 28,
     "metadata": {},
     "output_type": "execute_result"
    }
   ],
   "source": [
    "test_raw = tfidf.transform(X_test['text'])\n",
    "test_df = pd.SparseDataFrame(test_raw, columns=tfidf.get_feature_names())\n",
    "test_df.fillna(0, inplace=True)\n",
    "test_df.head()"
   ]
  },
  {
   "cell_type": "code",
   "execution_count": 29,
   "metadata": {},
   "outputs": [
    {
     "name": "stderr",
     "output_type": "stream",
     "text": [
      "/Users/michaelbouzane/anaconda3/lib/python3.7/site-packages/sklearn/linear_model/logistic.py:433: FutureWarning: Default solver will be changed to 'lbfgs' in 0.22. Specify a solver to silence this warning.\n",
      "  FutureWarning)\n"
     ]
    }
   ],
   "source": [
    "lr = LogisticRegression()\n",
    "\n",
    "model = lr.fit(train_df, y_train)\n",
    "\n",
    "predictions = model.predict(test_df)"
   ]
  },
  {
   "cell_type": "code",
   "execution_count": 30,
   "metadata": {},
   "outputs": [
    {
     "data": {
      "text/plain": [
       "0.98046875"
      ]
     },
     "execution_count": 30,
     "metadata": {},
     "output_type": "execute_result"
    }
   ],
   "source": [
    "model.score(train_df, y_train)"
   ]
  },
  {
   "cell_type": "code",
   "execution_count": 31,
   "metadata": {},
   "outputs": [
    {
     "data": {
      "text/plain": [
       "0.9617486338797814"
      ]
     },
     "execution_count": 31,
     "metadata": {},
     "output_type": "execute_result"
    }
   ],
   "source": [
    "model.score(test_df, y_test)"
   ]
  }
 ],
 "metadata": {
  "kernelspec": {
   "display_name": "Python 3",
   "language": "python",
   "name": "python3"
  },
  "language_info": {
   "codemirror_mode": {
    "name": "ipython",
    "version": 3
   },
   "file_extension": ".py",
   "mimetype": "text/x-python",
   "name": "python",
   "nbconvert_exporter": "python",
   "pygments_lexer": "ipython3",
   "version": "3.7.3"
  }
 },
 "nbformat": 4,
 "nbformat_minor": 2
}
