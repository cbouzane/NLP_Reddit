{
 "cells": [
  {
   "cell_type": "code",
   "execution_count": 23,
   "metadata": {},
   "outputs": [],
   "source": [
    "import requests, json, time, re\n",
    "import pandas as pd\n",
    "import numpy as np\n",
    "from sklearn.feature_extraction.text import TfidfVectorizer\n",
    "from sklearn.ensemble import RandomForestClassifier\n",
    "from sklearn.model_selection import train_test_split, GridSearchCV\n",
    "import matplotlib.pyplot as plt\n",
    "from sklearn.feature_extraction.text import CountVectorizer\n",
    "import seaborn as sns\n",
    "%matplotlib inline"
   ]
  },
  {
   "cell_type": "code",
   "execution_count": 2,
   "metadata": {},
   "outputs": [],
   "source": [
    "legal = pd.read_csv(\"./legal_advice.csv\")"
   ]
  },
  {
   "cell_type": "code",
   "execution_count": 3,
   "metadata": {},
   "outputs": [],
   "source": [
    "unpopular = pd.read_csv(\"./unpopular_opinion.csv\")"
   ]
  },
  {
   "cell_type": "code",
   "execution_count": 4,
   "metadata": {},
   "outputs": [],
   "source": [
    "data = pd.concat([legal, unpopular], axis = 0)"
   ]
  },
  {
   "cell_type": "code",
   "execution_count": 5,
   "metadata": {
    "scrolled": false
   },
   "outputs": [
    {
     "data": {
      "text/html": [
       "<div>\n",
       "<style scoped>\n",
       "    .dataframe tbody tr th:only-of-type {\n",
       "        vertical-align: middle;\n",
       "    }\n",
       "\n",
       "    .dataframe tbody tr th {\n",
       "        vertical-align: top;\n",
       "    }\n",
       "\n",
       "    .dataframe thead th {\n",
       "        text-align: right;\n",
       "    }\n",
       "</style>\n",
       "<table border=\"1\" class=\"dataframe\">\n",
       "  <thead>\n",
       "    <tr style=\"text-align: right;\">\n",
       "      <th></th>\n",
       "      <th>title</th>\n",
       "      <th>posts</th>\n",
       "      <th>subreddit</th>\n",
       "    </tr>\n",
       "  </thead>\n",
       "  <tbody>\n",
       "    <tr>\n",
       "      <th>0</th>\n",
       "      <td>[Super Awesome Update] Sat down on my friend's...</td>\n",
       "      <td>I never thought this would turn out the way it...</td>\n",
       "      <td>legaladvice</td>\n",
       "    </tr>\n",
       "    <tr>\n",
       "      <th>1</th>\n",
       "      <td>(Update) Neighbors child has disabilities and ...</td>\n",
       "      <td>Original post: https://www.reddit.com/r/legala...</td>\n",
       "      <td>legaladvice</td>\n",
       "    </tr>\n",
       "    <tr>\n",
       "      <th>2</th>\n",
       "      <td>I think my boyfriend has been drugging me to m...</td>\n",
       "      <td>This is in north Texas. \\n\\nHey so I must apol...</td>\n",
       "      <td>legaladvice</td>\n",
       "    </tr>\n",
       "    <tr>\n",
       "      <th>3</th>\n",
       "      <td>Neighbors assaulted me and took my daughter (l...</td>\n",
       "      <td>Male, late 20’s, CO\\n\\nI quit drinking soda an...</td>\n",
       "      <td>legaladvice</td>\n",
       "    </tr>\n",
       "    <tr>\n",
       "      <th>4</th>\n",
       "      <td>I told my math teacher about my mother, and sh...</td>\n",
       "      <td>I got my 13 year old brother after school yest...</td>\n",
       "      <td>legaladvice</td>\n",
       "    </tr>\n",
       "  </tbody>\n",
       "</table>\n",
       "</div>"
      ],
      "text/plain": [
       "                                               title  \\\n",
       "0  [Super Awesome Update] Sat down on my friend's...   \n",
       "1  (Update) Neighbors child has disabilities and ...   \n",
       "2  I think my boyfriend has been drugging me to m...   \n",
       "3  Neighbors assaulted me and took my daughter (l...   \n",
       "4  I told my math teacher about my mother, and sh...   \n",
       "\n",
       "                                               posts    subreddit  \n",
       "0  I never thought this would turn out the way it...  legaladvice  \n",
       "1  Original post: https://www.reddit.com/r/legala...  legaladvice  \n",
       "2  This is in north Texas. \\n\\nHey so I must apol...  legaladvice  \n",
       "3  Male, late 20’s, CO\\n\\nI quit drinking soda an...  legaladvice  \n",
       "4  I got my 13 year old brother after school yest...  legaladvice  "
      ]
     },
     "execution_count": 5,
     "metadata": {},
     "output_type": "execute_result"
    }
   ],
   "source": [
    "data.head()"
   ]
  },
  {
   "cell_type": "code",
   "execution_count": 6,
   "metadata": {},
   "outputs": [],
   "source": [
    "data['text'] = data['title'] + data['posts']"
   ]
  },
  {
   "cell_type": "code",
   "execution_count": 7,
   "metadata": {},
   "outputs": [
    {
     "data": {
      "text/html": [
       "<div>\n",
       "<style scoped>\n",
       "    .dataframe tbody tr th:only-of-type {\n",
       "        vertical-align: middle;\n",
       "    }\n",
       "\n",
       "    .dataframe tbody tr th {\n",
       "        vertical-align: top;\n",
       "    }\n",
       "\n",
       "    .dataframe thead th {\n",
       "        text-align: right;\n",
       "    }\n",
       "</style>\n",
       "<table border=\"1\" class=\"dataframe\">\n",
       "  <thead>\n",
       "    <tr style=\"text-align: right;\">\n",
       "      <th></th>\n",
       "      <th>title</th>\n",
       "      <th>posts</th>\n",
       "      <th>subreddit</th>\n",
       "      <th>text</th>\n",
       "    </tr>\n",
       "  </thead>\n",
       "  <tbody>\n",
       "    <tr>\n",
       "      <th>0</th>\n",
       "      <td>[Super Awesome Update] Sat down on my friend's...</td>\n",
       "      <td>I never thought this would turn out the way it...</td>\n",
       "      <td>legaladvice</td>\n",
       "      <td>[Super Awesome Update] Sat down on my friend's...</td>\n",
       "    </tr>\n",
       "    <tr>\n",
       "      <th>1</th>\n",
       "      <td>(Update) Neighbors child has disabilities and ...</td>\n",
       "      <td>Original post: https://www.reddit.com/r/legala...</td>\n",
       "      <td>legaladvice</td>\n",
       "      <td>(Update) Neighbors child has disabilities and ...</td>\n",
       "    </tr>\n",
       "    <tr>\n",
       "      <th>2</th>\n",
       "      <td>I think my boyfriend has been drugging me to m...</td>\n",
       "      <td>This is in north Texas. \\n\\nHey so I must apol...</td>\n",
       "      <td>legaladvice</td>\n",
       "      <td>I think my boyfriend has been drugging me to m...</td>\n",
       "    </tr>\n",
       "    <tr>\n",
       "      <th>3</th>\n",
       "      <td>Neighbors assaulted me and took my daughter (l...</td>\n",
       "      <td>Male, late 20’s, CO\\n\\nI quit drinking soda an...</td>\n",
       "      <td>legaladvice</td>\n",
       "      <td>Neighbors assaulted me and took my daughter (l...</td>\n",
       "    </tr>\n",
       "    <tr>\n",
       "      <th>4</th>\n",
       "      <td>I told my math teacher about my mother, and sh...</td>\n",
       "      <td>I got my 13 year old brother after school yest...</td>\n",
       "      <td>legaladvice</td>\n",
       "      <td>I told my math teacher about my mother, and sh...</td>\n",
       "    </tr>\n",
       "  </tbody>\n",
       "</table>\n",
       "</div>"
      ],
      "text/plain": [
       "                                               title  \\\n",
       "0  [Super Awesome Update] Sat down on my friend's...   \n",
       "1  (Update) Neighbors child has disabilities and ...   \n",
       "2  I think my boyfriend has been drugging me to m...   \n",
       "3  Neighbors assaulted me and took my daughter (l...   \n",
       "4  I told my math teacher about my mother, and sh...   \n",
       "\n",
       "                                               posts    subreddit  \\\n",
       "0  I never thought this would turn out the way it...  legaladvice   \n",
       "1  Original post: https://www.reddit.com/r/legala...  legaladvice   \n",
       "2  This is in north Texas. \\n\\nHey so I must apol...  legaladvice   \n",
       "3  Male, late 20’s, CO\\n\\nI quit drinking soda an...  legaladvice   \n",
       "4  I got my 13 year old brother after school yest...  legaladvice   \n",
       "\n",
       "                                                text  \n",
       "0  [Super Awesome Update] Sat down on my friend's...  \n",
       "1  (Update) Neighbors child has disabilities and ...  \n",
       "2  I think my boyfriend has been drugging me to m...  \n",
       "3  Neighbors assaulted me and took my daughter (l...  \n",
       "4  I told my math teacher about my mother, and sh...  "
      ]
     },
     "execution_count": 7,
     "metadata": {},
     "output_type": "execute_result"
    }
   ],
   "source": [
    "data.head()"
   ]
  },
  {
   "cell_type": "code",
   "execution_count": 8,
   "metadata": {
    "scrolled": true
   },
   "outputs": [],
   "source": [
    "data['subreddit'].replace('legaladvice', 1, inplace=True)\n",
    "data['subreddit'].replace('unpopularopinion', 0, inplace=True)"
   ]
  },
  {
   "cell_type": "code",
   "execution_count": 9,
   "metadata": {},
   "outputs": [
    {
     "data": {
      "text/html": [
       "<div>\n",
       "<style scoped>\n",
       "    .dataframe tbody tr th:only-of-type {\n",
       "        vertical-align: middle;\n",
       "    }\n",
       "\n",
       "    .dataframe tbody tr th {\n",
       "        vertical-align: top;\n",
       "    }\n",
       "\n",
       "    .dataframe thead th {\n",
       "        text-align: right;\n",
       "    }\n",
       "</style>\n",
       "<table border=\"1\" class=\"dataframe\">\n",
       "  <thead>\n",
       "    <tr style=\"text-align: right;\">\n",
       "      <th></th>\n",
       "      <th>title</th>\n",
       "      <th>posts</th>\n",
       "      <th>subreddit</th>\n",
       "      <th>text</th>\n",
       "    </tr>\n",
       "  </thead>\n",
       "  <tbody>\n",
       "    <tr>\n",
       "      <th>0</th>\n",
       "      <td>[Super Awesome Update] Sat down on my friend's...</td>\n",
       "      <td>I never thought this would turn out the way it...</td>\n",
       "      <td>1</td>\n",
       "      <td>[Super Awesome Update] Sat down on my friend's...</td>\n",
       "    </tr>\n",
       "    <tr>\n",
       "      <th>1</th>\n",
       "      <td>(Update) Neighbors child has disabilities and ...</td>\n",
       "      <td>Original post: https://www.reddit.com/r/legala...</td>\n",
       "      <td>1</td>\n",
       "      <td>(Update) Neighbors child has disabilities and ...</td>\n",
       "    </tr>\n",
       "    <tr>\n",
       "      <th>2</th>\n",
       "      <td>I think my boyfriend has been drugging me to m...</td>\n",
       "      <td>This is in north Texas. \\n\\nHey so I must apol...</td>\n",
       "      <td>1</td>\n",
       "      <td>I think my boyfriend has been drugging me to m...</td>\n",
       "    </tr>\n",
       "    <tr>\n",
       "      <th>3</th>\n",
       "      <td>Neighbors assaulted me and took my daughter (l...</td>\n",
       "      <td>Male, late 20’s, CO\\n\\nI quit drinking soda an...</td>\n",
       "      <td>1</td>\n",
       "      <td>Neighbors assaulted me and took my daughter (l...</td>\n",
       "    </tr>\n",
       "    <tr>\n",
       "      <th>4</th>\n",
       "      <td>I told my math teacher about my mother, and sh...</td>\n",
       "      <td>I got my 13 year old brother after school yest...</td>\n",
       "      <td>1</td>\n",
       "      <td>I told my math teacher about my mother, and sh...</td>\n",
       "    </tr>\n",
       "  </tbody>\n",
       "</table>\n",
       "</div>"
      ],
      "text/plain": [
       "                                               title  \\\n",
       "0  [Super Awesome Update] Sat down on my friend's...   \n",
       "1  (Update) Neighbors child has disabilities and ...   \n",
       "2  I think my boyfriend has been drugging me to m...   \n",
       "3  Neighbors assaulted me and took my daughter (l...   \n",
       "4  I told my math teacher about my mother, and sh...   \n",
       "\n",
       "                                               posts  subreddit  \\\n",
       "0  I never thought this would turn out the way it...          1   \n",
       "1  Original post: https://www.reddit.com/r/legala...          1   \n",
       "2  This is in north Texas. \\n\\nHey so I must apol...          1   \n",
       "3  Male, late 20’s, CO\\n\\nI quit drinking soda an...          1   \n",
       "4  I got my 13 year old brother after school yest...          1   \n",
       "\n",
       "                                                text  \n",
       "0  [Super Awesome Update] Sat down on my friend's...  \n",
       "1  (Update) Neighbors child has disabilities and ...  \n",
       "2  I think my boyfriend has been drugging me to m...  \n",
       "3  Neighbors assaulted me and took my daughter (l...  \n",
       "4  I told my math teacher about my mother, and sh...  "
      ]
     },
     "execution_count": 9,
     "metadata": {},
     "output_type": "execute_result"
    }
   ],
   "source": [
    "data.head()"
   ]
  },
  {
   "cell_type": "code",
   "execution_count": 10,
   "metadata": {},
   "outputs": [
    {
     "data": {
      "text/plain": [
       "(2054, 4)"
      ]
     },
     "execution_count": 10,
     "metadata": {},
     "output_type": "execute_result"
    }
   ],
   "source": [
    "data.shape"
   ]
  },
  {
   "cell_type": "code",
   "execution_count": 11,
   "metadata": {
    "scrolled": true
   },
   "outputs": [],
   "source": [
    "data.drop_duplicates(inplace=True)"
   ]
  },
  {
   "cell_type": "code",
   "execution_count": 12,
   "metadata": {},
   "outputs": [
    {
     "data": {
      "text/plain": [
       "(1829, 4)"
      ]
     },
     "execution_count": 12,
     "metadata": {},
     "output_type": "execute_result"
    }
   ],
   "source": [
    "data.shape"
   ]
  },
  {
   "cell_type": "code",
   "execution_count": 13,
   "metadata": {
    "scrolled": true
   },
   "outputs": [
    {
     "data": {
      "text/plain": [
       "title        0\n",
       "posts        7\n",
       "subreddit    0\n",
       "text         7\n",
       "dtype: int64"
      ]
     },
     "execution_count": 13,
     "metadata": {},
     "output_type": "execute_result"
    }
   ],
   "source": [
    "data.isnull().sum()"
   ]
  },
  {
   "cell_type": "code",
   "execution_count": 14,
   "metadata": {
    "scrolled": false
   },
   "outputs": [
    {
     "data": {
      "text/html": [
       "<div>\n",
       "<style scoped>\n",
       "    .dataframe tbody tr th:only-of-type {\n",
       "        vertical-align: middle;\n",
       "    }\n",
       "\n",
       "    .dataframe tbody tr th {\n",
       "        vertical-align: top;\n",
       "    }\n",
       "\n",
       "    .dataframe thead th {\n",
       "        text-align: right;\n",
       "    }\n",
       "</style>\n",
       "<table border=\"1\" class=\"dataframe\">\n",
       "  <thead>\n",
       "    <tr style=\"text-align: right;\">\n",
       "      <th></th>\n",
       "      <th>title</th>\n",
       "      <th>posts</th>\n",
       "      <th>subreddit</th>\n",
       "      <th>text</th>\n",
       "    </tr>\n",
       "  </thead>\n",
       "  <tbody>\n",
       "    <tr>\n",
       "      <th>11</th>\n",
       "      <td>Deadbeat dad ditched my mom when she was pregn...</td>\n",
       "      <td>NaN</td>\n",
       "      <td>1</td>\n",
       "      <td>NaN</td>\n",
       "    </tr>\n",
       "    <tr>\n",
       "      <th>83</th>\n",
       "      <td>NY- I sent a rent check to landlord who then c...</td>\n",
       "      <td>NaN</td>\n",
       "      <td>1</td>\n",
       "      <td>NaN</td>\n",
       "    </tr>\n",
       "    <tr>\n",
       "      <th>206</th>\n",
       "      <td>I work for a privately owned brewery/restauran...</td>\n",
       "      <td>NaN</td>\n",
       "      <td>1</td>\n",
       "      <td>NaN</td>\n",
       "    </tr>\n",
       "    <tr>\n",
       "      <th>304</th>\n",
       "      <td>Police Officer: I am going to search your vehi...</td>\n",
       "      <td>NaN</td>\n",
       "      <td>1</td>\n",
       "      <td>NaN</td>\n",
       "    </tr>\n",
       "    <tr>\n",
       "      <th>459</th>\n",
       "      <td>i’m 16 and from england my grandad passed and ...</td>\n",
       "      <td>NaN</td>\n",
       "      <td>1</td>\n",
       "      <td>NaN</td>\n",
       "    </tr>\n",
       "    <tr>\n",
       "      <th>592</th>\n",
       "      <td>FL: My schizophrenic neighbor has over 30 time...</td>\n",
       "      <td>NaN</td>\n",
       "      <td>1</td>\n",
       "      <td>NaN</td>\n",
       "    </tr>\n",
       "    <tr>\n",
       "      <th>643</th>\n",
       "      <td>TN: Work overpaid me ($15,000 instead of $1500...</td>\n",
       "      <td>NaN</td>\n",
       "      <td>1</td>\n",
       "      <td>NaN</td>\n",
       "    </tr>\n",
       "  </tbody>\n",
       "</table>\n",
       "</div>"
      ],
      "text/plain": [
       "                                                 title posts  subreddit text\n",
       "11   Deadbeat dad ditched my mom when she was pregn...   NaN          1  NaN\n",
       "83   NY- I sent a rent check to landlord who then c...   NaN          1  NaN\n",
       "206  I work for a privately owned brewery/restauran...   NaN          1  NaN\n",
       "304  Police Officer: I am going to search your vehi...   NaN          1  NaN\n",
       "459  i’m 16 and from england my grandad passed and ...   NaN          1  NaN\n",
       "592  FL: My schizophrenic neighbor has over 30 time...   NaN          1  NaN\n",
       "643  TN: Work overpaid me ($15,000 instead of $1500...   NaN          1  NaN"
      ]
     },
     "execution_count": 14,
     "metadata": {},
     "output_type": "execute_result"
    }
   ],
   "source": [
    "data[data['posts'].isnull()]"
   ]
  },
  {
   "cell_type": "code",
   "execution_count": 15,
   "metadata": {},
   "outputs": [],
   "source": [
    "data.replace(np.nan, \"\", inplace = True)"
   ]
  },
  {
   "cell_type": "code",
   "execution_count": 16,
   "metadata": {
    "scrolled": true
   },
   "outputs": [
    {
     "data": {
      "text/html": [
       "<div>\n",
       "<style scoped>\n",
       "    .dataframe tbody tr th:only-of-type {\n",
       "        vertical-align: middle;\n",
       "    }\n",
       "\n",
       "    .dataframe tbody tr th {\n",
       "        vertical-align: top;\n",
       "    }\n",
       "\n",
       "    .dataframe thead th {\n",
       "        text-align: right;\n",
       "    }\n",
       "</style>\n",
       "<table border=\"1\" class=\"dataframe\">\n",
       "  <thead>\n",
       "    <tr style=\"text-align: right;\">\n",
       "      <th></th>\n",
       "      <th>title</th>\n",
       "      <th>posts</th>\n",
       "      <th>subreddit</th>\n",
       "      <th>text</th>\n",
       "    </tr>\n",
       "  </thead>\n",
       "  <tbody>\n",
       "  </tbody>\n",
       "</table>\n",
       "</div>"
      ],
      "text/plain": [
       "Empty DataFrame\n",
       "Columns: [title, posts, subreddit, text]\n",
       "Index: []"
      ]
     },
     "execution_count": 16,
     "metadata": {},
     "output_type": "execute_result"
    }
   ],
   "source": [
    "data[data['posts'].isnull()]"
   ]
  },
  {
   "cell_type": "code",
   "execution_count": 17,
   "metadata": {},
   "outputs": [
    {
     "data": {
      "text/plain": [
       "1    0.533625\n",
       "0    0.466375\n",
       "Name: subreddit, dtype: float64"
      ]
     },
     "execution_count": 17,
     "metadata": {},
     "output_type": "execute_result"
    }
   ],
   "source": [
    "data['subreddit'].value_counts(normalize=True) # my benchmark (53%)"
   ]
  },
  {
   "cell_type": "code",
   "execution_count": 18,
   "metadata": {},
   "outputs": [],
   "source": [
    "data['posts'] = data.posts.map(lambda x: re.sub('\\s[\\/]?r\\/[^s]+', ' ', x)) # getting rid of slashes and spaces\n",
    "data['posts'] = data.posts.map(lambda x: re.sub('http[s]?:\\/\\/[^\\s]*', ' ', x)) # getting rid of url\n",
    "data['posts'] = data.posts.map(lambda x: re.sub('(legal|advice)[s]?', ' ', x,  flags=re.I))\n",
    "data['posts'] = data.posts.map(lambda x: re.sub('(unpopular|opinion)[s]?', ' ', x,  flags=re.I))"
   ]
  },
  {
   "cell_type": "code",
   "execution_count": 19,
   "metadata": {},
   "outputs": [
    {
     "data": {
      "text/html": [
       "<div>\n",
       "<style scoped>\n",
       "    .dataframe tbody tr th:only-of-type {\n",
       "        vertical-align: middle;\n",
       "    }\n",
       "\n",
       "    .dataframe tbody tr th {\n",
       "        vertical-align: top;\n",
       "    }\n",
       "\n",
       "    .dataframe thead th {\n",
       "        text-align: right;\n",
       "    }\n",
       "</style>\n",
       "<table border=\"1\" class=\"dataframe\">\n",
       "  <thead>\n",
       "    <tr style=\"text-align: right;\">\n",
       "      <th></th>\n",
       "      <th>title</th>\n",
       "      <th>posts</th>\n",
       "      <th>subreddit</th>\n",
       "      <th>text</th>\n",
       "    </tr>\n",
       "  </thead>\n",
       "  <tbody>\n",
       "    <tr>\n",
       "      <th>0</th>\n",
       "      <td>[Super Awesome Update] Sat down on my friend's...</td>\n",
       "      <td>I never thought this would turn out the way it...</td>\n",
       "      <td>1</td>\n",
       "      <td>[Super Awesome Update] Sat down on my friend's...</td>\n",
       "    </tr>\n",
       "    <tr>\n",
       "      <th>1</th>\n",
       "      <td>(Update) Neighbors child has disabilities and ...</td>\n",
       "      <td>Original post:  \\n\\nI'm sad about this update ...</td>\n",
       "      <td>1</td>\n",
       "      <td>(Update) Neighbors child has disabilities and ...</td>\n",
       "    </tr>\n",
       "    <tr>\n",
       "      <th>2</th>\n",
       "      <td>I think my boyfriend has been drugging me to m...</td>\n",
       "      <td>This is in north Texas. \\n\\nHey so I must apol...</td>\n",
       "      <td>1</td>\n",
       "      <td>I think my boyfriend has been drugging me to m...</td>\n",
       "    </tr>\n",
       "    <tr>\n",
       "      <th>3</th>\n",
       "      <td>Neighbors assaulted me and took my daughter (l...</td>\n",
       "      <td>Male, late 20’s, CO\\n\\nI quit drinking soda an...</td>\n",
       "      <td>1</td>\n",
       "      <td>Neighbors assaulted me and took my daughter (l...</td>\n",
       "    </tr>\n",
       "    <tr>\n",
       "      <th>4</th>\n",
       "      <td>I told my math teacher about my mother, and sh...</td>\n",
       "      <td>I got my 13 year old brother after school yest...</td>\n",
       "      <td>1</td>\n",
       "      <td>I told my math teacher about my mother, and sh...</td>\n",
       "    </tr>\n",
       "  </tbody>\n",
       "</table>\n",
       "</div>"
      ],
      "text/plain": [
       "                                               title  \\\n",
       "0  [Super Awesome Update] Sat down on my friend's...   \n",
       "1  (Update) Neighbors child has disabilities and ...   \n",
       "2  I think my boyfriend has been drugging me to m...   \n",
       "3  Neighbors assaulted me and took my daughter (l...   \n",
       "4  I told my math teacher about my mother, and sh...   \n",
       "\n",
       "                                               posts  subreddit  \\\n",
       "0  I never thought this would turn out the way it...          1   \n",
       "1  Original post:  \\n\\nI'm sad about this update ...          1   \n",
       "2  This is in north Texas. \\n\\nHey so I must apol...          1   \n",
       "3  Male, late 20’s, CO\\n\\nI quit drinking soda an...          1   \n",
       "4  I got my 13 year old brother after school yest...          1   \n",
       "\n",
       "                                                text  \n",
       "0  [Super Awesome Update] Sat down on my friend's...  \n",
       "1  (Update) Neighbors child has disabilities and ...  \n",
       "2  I think my boyfriend has been drugging me to m...  \n",
       "3  Neighbors assaulted me and took my daughter (l...  \n",
       "4  I told my math teacher about my mother, and sh...  "
      ]
     },
     "execution_count": 19,
     "metadata": {},
     "output_type": "execute_result"
    }
   ],
   "source": [
    "data.head()"
   ]
  },
  {
   "cell_type": "code",
   "execution_count": 20,
   "metadata": {},
   "outputs": [],
   "source": [
    "X = data.drop('subreddit', 1)\n",
    "y = data['subreddit']"
   ]
  },
  {
   "cell_type": "code",
   "execution_count": 28,
   "metadata": {},
   "outputs": [],
   "source": [
    "X_train, X_test, y_train, y_test = train_test_split(X,y, test_size=0.3, stratify=y, random_state=24)"
   ]
  },
  {
   "cell_type": "code",
   "execution_count": 29,
   "metadata": {},
   "outputs": [],
   "source": [
    "cvec = CountVectorizer(max_features = 500, stop_words = 'english')"
   ]
  },
  {
   "cell_type": "code",
   "execution_count": 30,
   "metadata": {},
   "outputs": [],
   "source": [
    "train_df = pd.DataFrame(cvec.fit_transform(X_train['posts']).todense(),\n",
    "                          columns = cvec.get_feature_names())"
   ]
  },
  {
   "cell_type": "code",
   "execution_count": 31,
   "metadata": {},
   "outputs": [],
   "source": [
    "test_df = pd.DataFrame(cvec.transform(X_test['posts']).todense(),\n",
    "                         columns = cvec.get_feature_names())"
   ]
  },
  {
   "cell_type": "code",
   "execution_count": 32,
   "metadata": {},
   "outputs": [],
   "source": [
    "train_df.fillna(0, inplace=True)"
   ]
  },
  {
   "cell_type": "code",
   "execution_count": 33,
   "metadata": {
    "scrolled": true
   },
   "outputs": [
    {
     "data": {
      "text/plain": [
       "000           0\n",
       "10            0\n",
       "100           0\n",
       "12            0\n",
       "15            0\n",
       "18            0\n",
       "20            0\n",
       "30            0\n",
       "able          0\n",
       "absolutely    0\n",
       "account       0\n",
       "act           0\n",
       "action        0\n",
       "actual        0\n",
       "actually      0\n",
       "address       0\n",
       "age           0\n",
       "ago           0\n",
       "agree         0\n",
       "agreed        0\n",
       "airbnb        0\n",
       "allowed       0\n",
       "amp           0\n",
       "angry         0\n",
       "animal        0\n",
       "answer        0\n",
       "anymore       0\n",
       "apartment     0\n",
       "apparently    0\n",
       "area          0\n",
       "             ..\n",
       "wasn          0\n",
       "water         0\n",
       "way           0\n",
       "week          0\n",
       "weeks         0\n",
       "weird         0\n",
       "went          0\n",
       "white         0\n",
       "wife          0\n",
       "woman         0\n",
       "women         0\n",
       "won           0\n",
       "word          0\n",
       "words         0\n",
       "work          0\n",
       "worked        0\n",
       "working       0\n",
       "works         0\n",
       "world         0\n",
       "worse         0\n",
       "worth         0\n",
       "wouldn        0\n",
       "wrong         0\n",
       "x200b         0\n",
       "yard          0\n",
       "year          0\n",
       "years         0\n",
       "yes           0\n",
       "yesterday     0\n",
       "young         0\n",
       "Length: 500, dtype: int64"
      ]
     },
     "execution_count": 33,
     "metadata": {},
     "output_type": "execute_result"
    }
   ],
   "source": [
    "train_df.isnull().sum()"
   ]
  },
  {
   "cell_type": "code",
   "execution_count": 34,
   "metadata": {},
   "outputs": [
    {
     "data": {
      "text/html": [
       "<div>\n",
       "<style scoped>\n",
       "    .dataframe tbody tr th:only-of-type {\n",
       "        vertical-align: middle;\n",
       "    }\n",
       "\n",
       "    .dataframe tbody tr th {\n",
       "        vertical-align: top;\n",
       "    }\n",
       "\n",
       "    .dataframe thead th {\n",
       "        text-align: right;\n",
       "    }\n",
       "</style>\n",
       "<table border=\"1\" class=\"dataframe\">\n",
       "  <thead>\n",
       "    <tr style=\"text-align: right;\">\n",
       "      <th></th>\n",
       "      <th>title</th>\n",
       "      <th>posts</th>\n",
       "      <th>text</th>\n",
       "    </tr>\n",
       "  </thead>\n",
       "  <tbody>\n",
       "    <tr>\n",
       "      <th>415</th>\n",
       "      <td>Tittyfucking is Fraud, Plain and Simple</td>\n",
       "      <td>Coffee and popcorn smell better than they tast...</td>\n",
       "      <td>Tittyfucking is Fraud, Plain and SimpleCoffee ...</td>\n",
       "    </tr>\n",
       "    <tr>\n",
       "      <th>191</th>\n",
       "      <td>Non-Americans bashing America and its citizens...</td>\n",
       "      <td>...especially if their country directly benefi...</td>\n",
       "      <td>Non-Americans bashing America and its citizens...</td>\n",
       "    </tr>\n",
       "    <tr>\n",
       "      <th>248</th>\n",
       "      <td>[California] I cancelled tattoo appointment be...</td>\n",
       "      <td>I had an appointment for a huge tattoo that wa...</td>\n",
       "      <td>[California] I cancelled tattoo appointment be...</td>\n",
       "    </tr>\n",
       "    <tr>\n",
       "      <th>286</th>\n",
       "      <td>Singers should not be allowed on Talent shows ...</td>\n",
       "      <td>So much good talent is eliminated when matched...</td>\n",
       "      <td>Singers should not be allowed on Talent shows ...</td>\n",
       "    </tr>\n",
       "    <tr>\n",
       "      <th>240</th>\n",
       "      <td>I really like traffic</td>\n",
       "      <td>I get anxiety about death, and car accidents d...</td>\n",
       "      <td>I really like trafficI get anxiety about death...</td>\n",
       "    </tr>\n",
       "  </tbody>\n",
       "</table>\n",
       "</div>"
      ],
      "text/plain": [
       "                                                 title  \\\n",
       "415            Tittyfucking is Fraud, Plain and Simple   \n",
       "191  Non-Americans bashing America and its citizens...   \n",
       "248  [California] I cancelled tattoo appointment be...   \n",
       "286  Singers should not be allowed on Talent shows ...   \n",
       "240                              I really like traffic   \n",
       "\n",
       "                                                 posts  \\\n",
       "415  Coffee and popcorn smell better than they tast...   \n",
       "191  ...especially if their country directly benefi...   \n",
       "248  I had an appointment for a huge tattoo that wa...   \n",
       "286  So much good talent is eliminated when matched...   \n",
       "240  I get anxiety about death, and car accidents d...   \n",
       "\n",
       "                                                  text  \n",
       "415  Tittyfucking is Fraud, Plain and SimpleCoffee ...  \n",
       "191  Non-Americans bashing America and its citizens...  \n",
       "248  [California] I cancelled tattoo appointment be...  \n",
       "286  Singers should not be allowed on Talent shows ...  \n",
       "240  I really like trafficI get anxiety about death...  "
      ]
     },
     "execution_count": 34,
     "metadata": {},
     "output_type": "execute_result"
    }
   ],
   "source": [
    "X_test.head()"
   ]
  },
  {
   "cell_type": "code",
   "execution_count": 35,
   "metadata": {},
   "outputs": [],
   "source": [
    "params = {'min_samples_split':[12, 25, 40], 'n_estimators': [100, 500, 1000], 'min_samples_leaf': [3, 5, 7]}"
   ]
  },
  {
   "cell_type": "code",
   "execution_count": 36,
   "metadata": {},
   "outputs": [],
   "source": [
    "rf = RandomForestClassifier() # why does n_samples decrease my socre?"
   ]
  },
  {
   "cell_type": "code",
   "execution_count": 37,
   "metadata": {},
   "outputs": [
    {
     "data": {
      "text/plain": [
       "0.97421875"
      ]
     },
     "execution_count": 37,
     "metadata": {},
     "output_type": "execute_result"
    }
   ],
   "source": [
    "gs = GridSearchCV(rf, param_grid=params, return_train_score=True, cv=5)\n",
    "gs.fit(train_df, y_train)\n",
    "gs.score(train_df, y_train) "
   ]
  },
  {
   "cell_type": "code",
   "execution_count": 38,
   "metadata": {},
   "outputs": [
    {
     "data": {
      "text/plain": [
       "0.930783242258652"
      ]
     },
     "execution_count": 38,
     "metadata": {},
     "output_type": "execute_result"
    }
   ],
   "source": [
    "gs.score(test_df, y_test)"
   ]
  },
  {
   "cell_type": "code",
   "execution_count": 39,
   "metadata": {},
   "outputs": [
    {
     "data": {
      "text/plain": [
       "{'min_samples_leaf': 3, 'min_samples_split': 12, 'n_estimators': 100}"
      ]
     },
     "execution_count": 39,
     "metadata": {},
     "output_type": "execute_result"
    }
   ],
   "source": [
    "gs.best_params_ "
   ]
  },
  {
   "cell_type": "code",
   "execution_count": 40,
   "metadata": {},
   "outputs": [
    {
     "data": {
      "text/plain": [
       "array([5.19859128e-05, 7.92498435e-05, 6.68754896e-05, 3.02395516e-04,\n",
       "       2.92730879e-04, 4.03221764e-05, 8.40898481e-04, 2.95306754e-04,\n",
       "       2.40842543e-03, 3.46409968e-04, 1.49532839e-03, 6.84493750e-04,\n",
       "       1.03853624e-03, 8.12292589e-05, 5.07222850e-04, 4.19898778e-04,\n",
       "       0.00000000e+00, 1.97765825e-02, 2.50391159e-04, 4.40086059e-04,\n",
       "       0.00000000e+00, 9.69896033e-04, 4.56042609e-04, 1.37241983e-04,\n",
       "       0.00000000e+00, 2.58789172e-04, 3.92041258e-04, 2.77749454e-03,\n",
       "       2.36495242e-03, 1.10518369e-04, 3.33728909e-04, 1.88920941e-04,\n",
       "       2.50007096e-02, 2.30591120e-03, 8.62549063e-04, 2.14668849e-03,\n",
       "       1.94548577e-04, 7.26647719e-04, 6.39335416e-05, 9.75754163e-04,\n",
       "       9.89209757e-04, 2.65748918e-04, 4.49345737e-04, 0.00000000e+00,\n",
       "       4.05033665e-04, 3.73719250e-04, 9.53304305e-04, 1.21489769e-04,\n",
       "       1.91245882e-04, 7.78933969e-05, 7.58533816e-05, 6.73749915e-05,\n",
       "       5.14680132e-04, 1.27237074e-03, 1.48211182e-04, 2.72576797e-04,\n",
       "       6.29900049e-04, 2.52443612e-04, 5.48890200e-04, 7.96751789e-04,\n",
       "       7.06083952e-05, 1.95872498e-02, 1.17214918e-04, 2.17945629e-04,\n",
       "       1.62177053e-02, 2.27439734e-03, 2.42599549e-04, 5.26586914e-04,\n",
       "       6.09973219e-03, 1.15410601e-05, 2.95166714e-04, 4.03359665e-04,\n",
       "       7.81095698e-04, 4.29744661e-04, 2.05263927e-04, 1.47125486e-04,\n",
       "       6.53026610e-06, 1.54701027e-04, 1.17145247e-04, 1.82798748e-04,\n",
       "       1.02732618e-03, 1.64177282e-04, 1.14863928e-03, 9.70668923e-05,\n",
       "       6.45815032e-05, 4.88401518e-04, 2.27598037e-04, 3.57268902e-03,\n",
       "       1.16778896e-03, 1.94594706e-04, 2.69838105e-03, 5.60797060e-03,\n",
       "       3.07951894e-04, 5.03226696e-04, 9.96732686e-04, 2.74082530e-05,\n",
       "       1.92561873e-04, 8.20414802e-04, 3.22887477e-04, 1.14896471e-02,\n",
       "       4.72493398e-04, 1.11396992e-04, 0.00000000e+00, 4.67278483e-04,\n",
       "       1.73146514e-03, 1.42281206e-03, 1.79875426e-03, 7.15828323e-07,\n",
       "       2.51892045e-03, 9.24842945e-04, 3.63739646e-03, 2.20460259e-04,\n",
       "       6.11179410e-03, 4.83545416e-05, 4.18420239e-04, 0.00000000e+00,\n",
       "       2.05008554e-02, 1.43950457e-02, 3.27732756e-04, 5.40832914e-04,\n",
       "       8.46825381e-04, 5.18927359e-04, 1.54312005e-04, 0.00000000e+00,\n",
       "       6.42824425e-04, 4.07711827e-03, 4.45435733e-03, 6.64405749e-04,\n",
       "       0.00000000e+00, 0.00000000e+00, 5.03204218e-04, 8.04642530e-05,\n",
       "       2.72521160e-03, 4.67604576e-04, 2.66406575e-04, 1.71261521e-03,\n",
       "       4.24014844e-05, 6.05697331e-04, 2.50377385e-05, 5.68630130e-05,\n",
       "       7.17977038e-04, 2.15818382e-04, 2.72665671e-04, 3.79175484e-04,\n",
       "       2.47155483e-03, 1.52893998e-04, 7.81031298e-05, 4.33053664e-03,\n",
       "       7.83951275e-04, 9.18170207e-05, 3.86826982e-05, 8.63313841e-04,\n",
       "       1.68695248e-03, 1.27305842e-04, 1.88482585e-04, 7.17665310e-04,\n",
       "       4.65522780e-05, 3.90973692e-04, 2.01166371e-04, 2.00030143e-03,\n",
       "       1.32428011e-04, 1.14106232e-03, 6.28474325e-04, 3.32178374e-05,\n",
       "       3.98954504e-05, 9.81960718e-03, 4.22504004e-04, 6.98258490e-04,\n",
       "       2.34649844e-04, 5.92785600e-04, 1.06507702e-04, 1.33997651e-04,\n",
       "       2.53081050e-04, 5.18744832e-03, 8.71094061e-05, 1.30616506e-04,\n",
       "       1.10739955e-03, 1.50971279e-02, 9.75680989e-05, 5.48393703e-05,\n",
       "       1.08675208e-04, 3.10856535e-04, 2.42379586e-04, 3.94234222e-04,\n",
       "       3.12327744e-04, 2.28502081e-04, 7.75523416e-03, 1.55413154e-04,\n",
       "       1.37515340e-04, 2.43430744e-04, 1.92362408e-03, 2.24291644e-04,\n",
       "       7.70097070e-04, 3.05193056e-05, 1.62422119e-04, 1.17836973e-04,\n",
       "       2.42089293e-04, 6.64047156e-05, 6.56026195e-05, 1.11076869e-02,\n",
       "       4.27541751e-04, 3.92835904e-04, 4.31301791e-05, 1.63724375e-04,\n",
       "       8.51097665e-03, 2.22494826e-04, 1.53589519e-04, 6.73600777e-04,\n",
       "       2.81936828e-04, 1.67573983e-03, 2.39630394e-02, 8.96567789e-05,\n",
       "       4.69201687e-04, 2.84587067e-04, 2.56313356e-04, 4.89143957e-05,\n",
       "       6.65418783e-04, 1.86360809e-03, 4.65919716e-05, 3.33670514e-03,\n",
       "       8.71355684e-05, 1.08190816e-03, 7.20561672e-04, 3.11022181e-04,\n",
       "       2.19355232e-03, 0.00000000e+00, 0.00000000e+00, 4.12771802e-03,\n",
       "       1.95620520e-04, 1.21207377e-03, 7.62185429e-04, 2.68262674e-04,\n",
       "       4.66613892e-04, 3.74755968e-03, 1.38615032e-04, 6.93923203e-06,\n",
       "       1.12738581e-03, 4.43044232e-03, 2.84740279e-03, 3.58731114e-02,\n",
       "       4.29574263e-04, 1.41984316e-03, 7.78581578e-04, 3.50330477e-03,\n",
       "       5.24746094e-04, 5.30427257e-03, 1.33627741e-03, 4.53779355e-03,\n",
       "       3.32206599e-04, 2.10522004e-05, 1.24991404e-04, 4.03307206e-04,\n",
       "       2.66478941e-03, 1.41310792e-04, 2.20248589e-04, 1.35342731e-03,\n",
       "       4.98067466e-04, 4.55493987e-03, 3.56912761e-04, 1.67264244e-04,\n",
       "       5.43494408e-04, 3.01474823e-04, 3.50302034e-04, 2.18894060e-05,\n",
       "       1.12446583e-04, 1.34073462e-03, 1.00546087e-03, 1.84260879e-03,\n",
       "       3.55083123e-04, 8.17423143e-04, 5.06119388e-04, 2.11480879e-04,\n",
       "       7.14227793e-04, 8.57259810e-04, 1.05476424e-03, 2.13220368e-04,\n",
       "       3.83539164e-04, 2.11768501e-04, 8.96497025e-04, 1.24228192e-04,\n",
       "       8.58099364e-05, 5.92790139e-04, 1.34024700e-04, 1.84630243e-03,\n",
       "       9.19582408e-05, 3.53587816e-05, 0.00000000e+00, 7.71343123e-05,\n",
       "       7.16473033e-05, 3.57129215e-04, 8.09778400e-03, 1.09147693e-03,\n",
       "       7.20597486e-03, 1.36066955e-02, 2.13243347e-03, 1.11695741e-03,\n",
       "       3.10165035e-03, 7.71541539e-04, 1.83754569e-04, 8.54091917e-04,\n",
       "       9.18341621e-04, 3.08293680e-04, 9.32802275e-04, 5.35923857e-04,\n",
       "       1.18544814e-03, 9.00622138e-05, 2.01593070e-03, 9.58231337e-05,\n",
       "       3.29511230e-05, 4.71508848e-04, 8.87795613e-05, 7.33967105e-04,\n",
       "       1.59678392e-04, 3.78911195e-03, 1.92081281e-05, 0.00000000e+00,\n",
       "       2.10736032e-04, 9.84233288e-04, 7.68265675e-05, 4.45268037e-04,\n",
       "       1.25886345e-05, 1.13409481e-02, 1.17677329e-04, 2.41793045e-05,\n",
       "       2.53532716e-03, 1.91359625e-04, 3.67510629e-03, 4.34914511e-04,\n",
       "       3.15883303e-04, 4.95845592e-04, 4.95886919e-03, 8.46356015e-06,\n",
       "       3.97367517e-02, 6.00681635e-04, 1.20106456e-04, 1.16436051e-02,\n",
       "       6.14770544e-04, 2.16683270e-03, 8.19632773e-05, 4.90598095e-04,\n",
       "       2.80286342e-02, 1.28617018e-04, 2.01497843e-03, 7.65785401e-05,\n",
       "       2.21726655e-04, 4.95718071e-05, 1.37609728e-03, 3.06244600e-04,\n",
       "       2.27179484e-03, 4.14349562e-04, 2.23704353e-04, 0.00000000e+00,\n",
       "       1.02606088e-02, 2.39008025e-04, 2.99171096e-03, 8.44747637e-06,\n",
       "       1.02079125e-03, 3.54475796e-04, 2.56216045e-04, 1.11291754e-03,\n",
       "       1.95060072e-04, 9.36183418e-03, 1.00536537e-03, 1.41646318e-03,\n",
       "       1.68196070e-04, 4.88878796e-04, 9.77503106e-03, 0.00000000e+00,\n",
       "       2.61095607e-04, 8.79323523e-04, 1.11896354e-04, 3.31797814e-04,\n",
       "       1.22486917e-04, 7.78617257e-04, 3.69340301e-02, 7.03084475e-05,\n",
       "       8.54698085e-04, 9.38038754e-04, 9.63731590e-04, 7.53087487e-04,\n",
       "       1.72328820e-04, 2.46326702e-04, 8.71847970e-05, 4.91000183e-04,\n",
       "       5.60321320e-04, 1.05825172e-02, 1.98068525e-04, 2.72304310e-04,\n",
       "       5.62389772e-04, 2.40490913e-04, 1.31190682e-03, 2.23798589e-04,\n",
       "       6.54934803e-04, 4.43226695e-04, 6.32696394e-05, 9.48410421e-04,\n",
       "       1.17443408e-04, 1.97634772e-04, 2.58159844e-04, 5.97921833e-03,\n",
       "       1.78780199e-04, 2.52682210e-04, 2.11399621e-04, 1.17189136e-04,\n",
       "       6.02519627e-04, 4.45966128e-04, 5.73601874e-04, 6.90599419e-05,\n",
       "       1.44521914e-03, 2.44242287e-04, 7.66044115e-04, 2.48734116e-03,\n",
       "       2.80901192e-04, 2.18443495e-04, 2.14254113e-05, 6.89254085e-04,\n",
       "       3.89753743e-04, 7.36650957e-05, 1.41061704e-04, 4.62893210e-04,\n",
       "       3.00769684e-04, 1.31705034e-05, 2.77795812e-03, 7.17207582e-05,\n",
       "       9.81226442e-04, 7.54418878e-04, 6.04328259e-04, 6.29057842e-04,\n",
       "       5.28242840e-04, 1.88196209e-03, 9.22324542e-04, 2.23899137e-04,\n",
       "       8.87591278e-04, 1.68467009e-03, 2.18236671e-04, 7.65337393e-03,\n",
       "       8.57122105e-03, 5.59603582e-04, 8.27993585e-04, 4.23240872e-03,\n",
       "       2.50351754e-04, 1.60242125e-03, 1.18664584e-03, 4.15287437e-04,\n",
       "       8.40184216e-05, 4.44575305e-04, 2.98974890e-03, 5.99419239e-02,\n",
       "       2.17624567e-02, 1.65921341e-04, 1.91040904e-03, 1.18347172e-04,\n",
       "       1.99747708e-04, 4.77317029e-04, 1.77623093e-04, 7.67735326e-04,\n",
       "       4.82687212e-04, 2.93563787e-02, 7.07845225e-06, 1.13062031e-03,\n",
       "       4.32578927e-04, 3.03225048e-04, 2.04962180e-04, 1.82971906e-03,\n",
       "       2.18726407e-05, 2.29333683e-04, 7.31580244e-05, 1.72120831e-03,\n",
       "       3.33024507e-03, 2.15279260e-04, 1.26240934e-03, 4.26406236e-05,\n",
       "       8.56703262e-04, 1.25287354e-02, 1.12183402e-02, 1.09226326e-06,\n",
       "       3.42350878e-02, 4.48955058e-04, 3.67539982e-03, 2.17929398e-04,\n",
       "       3.00237482e-03, 3.10511441e-04, 1.21860461e-07, 1.15048835e-04,\n",
       "       6.30577034e-03, 4.79825455e-04, 1.57884248e-03, 1.60479155e-04,\n",
       "       1.21308190e-03, 3.10408342e-04, 1.80124970e-05, 1.66184610e-04,\n",
       "       4.36945245e-04, 2.41093120e-04, 7.85081113e-04, 1.21126392e-02,\n",
       "       3.76482024e-03, 2.35783208e-05, 2.86742412e-03, 4.47280532e-04])"
      ]
     },
     "execution_count": 40,
     "metadata": {},
     "output_type": "execute_result"
    }
   ],
   "source": [
    "gs.best_estimator_.feature_importances_"
   ]
  },
  {
   "cell_type": "code",
   "execution_count": 41,
   "metadata": {},
   "outputs": [],
   "source": [
    "feat_importance = pd.DataFrame(gs.best_estimator_.feature_importances_, train_df.columns, columns=['importance'])"
   ]
  },
  {
   "cell_type": "code",
   "execution_count": 42,
   "metadata": {},
   "outputs": [],
   "source": [
    "top_features = feat_importance.sort_values(by='importance', ascending=False).head(10)"
   ]
  },
  {
   "cell_type": "code",
   "execution_count": 43,
   "metadata": {},
   "outputs": [
    {
     "data": {
      "text/html": [
       "<div>\n",
       "<style scoped>\n",
       "    .dataframe tbody tr th:only-of-type {\n",
       "        vertical-align: middle;\n",
       "    }\n",
       "\n",
       "    .dataframe tbody tr th {\n",
       "        vertical-align: top;\n",
       "    }\n",
       "\n",
       "    .dataframe thead th {\n",
       "        text-align: right;\n",
       "    }\n",
       "</style>\n",
       "<table border=\"1\" class=\"dataframe\">\n",
       "  <thead>\n",
       "    <tr style=\"text-align: right;\">\n",
       "      <th></th>\n",
       "      <th>importance</th>\n",
       "    </tr>\n",
       "  </thead>\n",
       "  <tbody>\n",
       "    <tr>\n",
       "      <th>told</th>\n",
       "      <td>0.059942</td>\n",
       "    </tr>\n",
       "    <tr>\n",
       "      <th>people</th>\n",
       "      <td>0.039737</td>\n",
       "    </tr>\n",
       "    <tr>\n",
       "      <th>said</th>\n",
       "      <td>0.036934</td>\n",
       "    </tr>\n",
       "    <tr>\n",
       "      <th>lawyer</th>\n",
       "      <td>0.035873</td>\n",
       "    </tr>\n",
       "    <tr>\n",
       "      <th>went</th>\n",
       "      <td>0.034235</td>\n",
       "    </tr>\n",
       "    <tr>\n",
       "      <th>update</th>\n",
       "      <td>0.029356</td>\n",
       "    </tr>\n",
       "    <tr>\n",
       "      <th>police</th>\n",
       "      <td>0.028029</td>\n",
       "    </tr>\n",
       "    <tr>\n",
       "      <th>asked</th>\n",
       "      <td>0.025001</td>\n",
       "    </tr>\n",
       "    <tr>\n",
       "      <th>house</th>\n",
       "      <td>0.023963</td>\n",
       "    </tr>\n",
       "    <tr>\n",
       "      <th>took</th>\n",
       "      <td>0.021762</td>\n",
       "    </tr>\n",
       "  </tbody>\n",
       "</table>\n",
       "</div>"
      ],
      "text/plain": [
       "        importance\n",
       "told      0.059942\n",
       "people    0.039737\n",
       "said      0.036934\n",
       "lawyer    0.035873\n",
       "went      0.034235\n",
       "update    0.029356\n",
       "police    0.028029\n",
       "asked     0.025001\n",
       "house     0.023963\n",
       "took      0.021762"
      ]
     },
     "execution_count": 43,
     "metadata": {},
     "output_type": "execute_result"
    }
   ],
   "source": [
    "top_features"
   ]
  },
  {
   "cell_type": "code",
   "execution_count": 44,
   "metadata": {
    "scrolled": true
   },
   "outputs": [
    {
     "data": {
      "text/html": [
       "<div>\n",
       "<style scoped>\n",
       "    .dataframe tbody tr th:only-of-type {\n",
       "        vertical-align: middle;\n",
       "    }\n",
       "\n",
       "    .dataframe tbody tr th {\n",
       "        vertical-align: top;\n",
       "    }\n",
       "\n",
       "    .dataframe thead th {\n",
       "        text-align: right;\n",
       "    }\n",
       "</style>\n",
       "<table border=\"1\" class=\"dataframe\">\n",
       "  <thead>\n",
       "    <tr style=\"text-align: right;\">\n",
       "      <th></th>\n",
       "      <th>importance</th>\n",
       "    </tr>\n",
       "  </thead>\n",
       "  <tbody>\n",
       "    <tr>\n",
       "      <th>animal</th>\n",
       "      <td>0.0</td>\n",
       "    </tr>\n",
       "    <tr>\n",
       "      <th>bed</th>\n",
       "      <td>0.0</td>\n",
       "    </tr>\n",
       "    <tr>\n",
       "      <th>driver</th>\n",
       "      <td>0.0</td>\n",
       "    </tr>\n",
       "    <tr>\n",
       "      <th>dogs</th>\n",
       "      <td>0.0</td>\n",
       "    </tr>\n",
       "    <tr>\n",
       "      <th>response</th>\n",
       "      <td>0.0</td>\n",
       "    </tr>\n",
       "    <tr>\n",
       "      <th>details</th>\n",
       "      <td>0.0</td>\n",
       "    </tr>\n",
       "    <tr>\n",
       "      <th>credit</th>\n",
       "      <td>0.0</td>\n",
       "    </tr>\n",
       "    <tr>\n",
       "      <th>john</th>\n",
       "      <td>0.0</td>\n",
       "    </tr>\n",
       "    <tr>\n",
       "      <th>process</th>\n",
       "      <td>0.0</td>\n",
       "    </tr>\n",
       "    <tr>\n",
       "      <th>judge</th>\n",
       "      <td>0.0</td>\n",
       "    </tr>\n",
       "  </tbody>\n",
       "</table>\n",
       "</div>"
      ],
      "text/plain": [
       "          importance\n",
       "animal           0.0\n",
       "bed              0.0\n",
       "driver           0.0\n",
       "dogs             0.0\n",
       "response         0.0\n",
       "details          0.0\n",
       "credit           0.0\n",
       "john             0.0\n",
       "process          0.0\n",
       "judge            0.0"
      ]
     },
     "execution_count": 44,
     "metadata": {},
     "output_type": "execute_result"
    }
   ],
   "source": [
    "feat_importance.sort_values(by='importance', ascending=False).tail(10)"
   ]
  },
  {
   "cell_type": "code",
   "execution_count": 45,
   "metadata": {},
   "outputs": [
    {
     "ename": "NameError",
     "evalue": "name 'ax' is not defined",
     "output_type": "error",
     "traceback": [
      "\u001b[0;31m---------------------------------------------------------------------------\u001b[0m",
      "\u001b[0;31mNameError\u001b[0m                                 Traceback (most recent call last)",
      "\u001b[0;32m<ipython-input-45-651840132760>\u001b[0m in \u001b[0;36m<module>\u001b[0;34m\u001b[0m\n\u001b[1;32m      8\u001b[0m \u001b[0mplt\u001b[0m\u001b[0;34m.\u001b[0m\u001b[0mxlabel\u001b[0m\u001b[0;34m(\u001b[0m\u001b[0;34m'Amount of information gained'\u001b[0m\u001b[0;34m,\u001b[0m \u001b[0mfontsize\u001b[0m\u001b[0;34m=\u001b[0m\u001b[0;36m20\u001b[0m\u001b[0;34m)\u001b[0m\u001b[0;34m\u001b[0m\u001b[0;34m\u001b[0m\u001b[0m\n\u001b[1;32m      9\u001b[0m \u001b[0mplt\u001b[0m\u001b[0;34m.\u001b[0m\u001b[0mylabel\u001b[0m\u001b[0;34m(\u001b[0m\u001b[0;34m'Feature'\u001b[0m\u001b[0;34m,\u001b[0m \u001b[0mfontsize\u001b[0m\u001b[0;34m=\u001b[0m\u001b[0;36m20\u001b[0m\u001b[0;34m)\u001b[0m\u001b[0;34m\u001b[0m\u001b[0;34m\u001b[0m\u001b[0m\n\u001b[0;32m---> 10\u001b[0;31m \u001b[0max\u001b[0m\u001b[0;34m.\u001b[0m\u001b[0mset_ylabel\u001b[0m\u001b[0;34m(\u001b[0m\u001b[0;34m\"Sequential\"\u001b[0m\u001b[0;34m)\u001b[0m\u001b[0;34m;\u001b[0m\u001b[0;34m\u001b[0m\u001b[0;34m\u001b[0m\u001b[0m\n\u001b[0m\u001b[1;32m     11\u001b[0m \u001b[0;34m\u001b[0m\u001b[0m\n\u001b[1;32m     12\u001b[0m \u001b[0;31m# Finalize the plot\u001b[0m\u001b[0;34m\u001b[0m\u001b[0;34m\u001b[0m\u001b[0;34m\u001b[0m\u001b[0m\n",
      "\u001b[0;31mNameError\u001b[0m: name 'ax' is not defined"
     ]
    },
    {
     "data": {
      "image/png": "[encoded data removed]",
      "text/plain": [
       "<Figure size 1440x720 with 1 Axes>"
      ]
     },
     "metadata": {},
     "output_type": "display_data"
    }
   ],
   "source": [
    "import seaborn as sns\n",
    "import matplotlib.pyplot as plt\n",
    "sns.set(style=\"whitegrid\")\n",
    "plt.figure(figsize=(20,10))\n",
    "sns.barplot(x=top_features[\"importance\"], y=top_features.index,\n",
    "            label=\"Total\", palette=\"rocket\")\n",
    "plt.title('Top 10 Features', fontsize=30)\n",
    "plt.xlabel('Amount of information gained', fontsize=20)\n",
    "plt.ylabel('Feature', fontsize=20)\n",
    "ax.set_ylabel(\"Sequential\");\n",
    "\n",
    "# Finalize the plot\n",
    "sns.despine(bottom=True)\n",
    "plt.setp(f.axes, yticks=[])\n",
    "plt.tight_layout(h_pad=2)"
   ]
  },
  {
   "cell_type": "code",
   "execution_count": 46,
   "metadata": {},
   "outputs": [
    {
     "data": {
      "text/plain": [
       "<function matplotlib.pyplot.figure(num=None, figsize=None, dpi=None, facecolor=None, edgecolor=None, frameon=True, FigureClass=<class 'matplotlib.figure.Figure'>, clear=False, **kwargs)>"
      ]
     },
     "execution_count": 46,
     "metadata": {},
     "output_type": "execute_result"
    },
    {
     "data": {
      "image/png": "[encoded data removed]",
      "text/plain": [
       "<Figure size 1440x720 with 1 Axes>"
      ]
     },
     "metadata": {},
     "output_type": "display_data"
    }
   ],
   "source": [
    "plt.figure(figsize=(20,10))\n",
    "temp = feat_importance.sort_values('importance', ascending=False).head(10)\n",
    "plt.barh(temp.index, temp['importance'])\n",
    "plt.title('Top 10 Features', fontsize=30)\n",
    "plt.xlabel('Amount of information gained', fontsize=20)\n",
    "plt.ylabel('Feature', fontsize=20);\n",
    "plt.figure"
   ]
  },
  {
   "cell_type": "code",
   "execution_count": 47,
   "metadata": {},
   "outputs": [
    {
     "data": {
      "text/plain": [
       "{'mean_fit_time': array([0.27561369, 1.21570058, 2.3505384 , 0.22831674, 1.1301065 ,\n",
       "        2.22838187, 0.21634517, 1.08190889, 2.179984  , 0.21926899,\n",
       "        1.08209562, 2.15215931, 0.21511879, 1.04704051, 2.09583845,\n",
       "        0.21009207, 1.02016525, 2.07266808, 0.20032077, 1.04133043,\n",
       "        2.01381397, 0.19998507, 1.07761164, 2.30195808, 0.19452085,\n",
       "        0.95553141, 2.14287944]),\n",
       " 'std_fit_time': array([0.02401922, 0.06536765, 0.05925059, 0.00474279, 0.02497109,\n",
       "        0.05095379, 0.00795136, 0.02891458, 0.04037102, 0.00415349,\n",
       "        0.0374777 , 0.06274958, 0.0083663 , 0.03152155, 0.05635433,\n",
       "        0.00705742, 0.03780571, 0.04186582, 0.00383335, 0.0386451 ,\n",
       "        0.04899507, 0.00670547, 0.08501602, 0.18307777, 0.00378882,\n",
       "        0.03329536, 0.11641541]),\n",
       " 'mean_score_time': array([0.01442313, 0.06007586, 0.11456027, 0.01224403, 0.05548072,\n",
       "        0.10932717, 0.01366301, 0.05374537, 0.1093318 , 0.01219521,\n",
       "        0.05785646, 0.12299061, 0.01215048, 0.05451727, 0.1193851 ,\n",
       "        0.01404891, 0.05519004, 0.11220198, 0.01199579, 0.05602441,\n",
       "        0.112394  , 0.0120347 , 0.05596914, 0.11446419, 0.01188421,\n",
       "        0.05863457, 0.12131743]),\n",
       " 'std_score_time': array([2.41031086e-03, 6.08150385e-03, 7.65434048e-03, 2.75775026e-04,\n",
       "        1.11607525e-03, 3.81902789e-03, 2.50642187e-03, 3.71979918e-04,\n",
       "        3.76654202e-03, 1.82960224e-04, 3.74373822e-03, 1.98509794e-02,\n",
       "        1.76361457e-04, 9.94705285e-04, 1.60729969e-02, 2.69425659e-03,\n",
       "        2.73580419e-03, 1.20180452e-02, 1.61589975e-04, 3.54897194e-03,\n",
       "        6.35804859e-03, 2.58690219e-04, 2.65865737e-03, 1.26708756e-02,\n",
       "        8.52042758e-05, 4.99202248e-03, 8.99496077e-03]),\n",
       " 'param_min_samples_leaf': masked_array(data=[3, 3, 3, 3, 3, 3, 3, 3, 3, 5, 5, 5, 5, 5, 5, 5, 5, 5,\n",
       "                    7, 7, 7, 7, 7, 7, 7, 7, 7],\n",
       "              mask=[False, False, False, False, False, False, False, False,\n",
       "                    False, False, False, False, False, False, False, False,\n",
       "                    False, False, False, False, False, False, False, False,\n",
       "                    False, False, False],\n",
       "        fill_value='?',\n",
       "             dtype=object),\n",
       " 'param_min_samples_split': masked_array(data=[12, 12, 12, 25, 25, 25, 40, 40, 40, 12, 12, 12, 25, 25,\n",
       "                    25, 40, 40, 40, 12, 12, 12, 25, 25, 25, 40, 40, 40],\n",
       "              mask=[False, False, False, False, False, False, False, False,\n",
       "                    False, False, False, False, False, False, False, False,\n",
       "                    False, False, False, False, False, False, False, False,\n",
       "                    False, False, False],\n",
       "        fill_value='?',\n",
       "             dtype=object),\n",
       " 'param_n_estimators': masked_array(data=[100, 500, 1000, 100, 500, 1000, 100, 500, 1000, 100,\n",
       "                    500, 1000, 100, 500, 1000, 100, 500, 1000, 100, 500,\n",
       "                    1000, 100, 500, 1000, 100, 500, 1000],\n",
       "              mask=[False, False, False, False, False, False, False, False,\n",
       "                    False, False, False, False, False, False, False, False,\n",
       "                    False, False, False, False, False, False, False, False,\n",
       "                    False, False, False],\n",
       "        fill_value='?',\n",
       "             dtype=object),\n",
       " 'params': [{'min_samples_leaf': 3,\n",
       "   'min_samples_split': 12,\n",
       "   'n_estimators': 100},\n",
       "  {'min_samples_leaf': 3, 'min_samples_split': 12, 'n_estimators': 500},\n",
       "  {'min_samples_leaf': 3, 'min_samples_split': 12, 'n_estimators': 1000},\n",
       "  {'min_samples_leaf': 3, 'min_samples_split': 25, 'n_estimators': 100},\n",
       "  {'min_samples_leaf': 3, 'min_samples_split': 25, 'n_estimators': 500},\n",
       "  {'min_samples_leaf': 3, 'min_samples_split': 25, 'n_estimators': 1000},\n",
       "  {'min_samples_leaf': 3, 'min_samples_split': 40, 'n_estimators': 100},\n",
       "  {'min_samples_leaf': 3, 'min_samples_split': 40, 'n_estimators': 500},\n",
       "  {'min_samples_leaf': 3, 'min_samples_split': 40, 'n_estimators': 1000},\n",
       "  {'min_samples_leaf': 5, 'min_samples_split': 12, 'n_estimators': 100},\n",
       "  {'min_samples_leaf': 5, 'min_samples_split': 12, 'n_estimators': 500},\n",
       "  {'min_samples_leaf': 5, 'min_samples_split': 12, 'n_estimators': 1000},\n",
       "  {'min_samples_leaf': 5, 'min_samples_split': 25, 'n_estimators': 100},\n",
       "  {'min_samples_leaf': 5, 'min_samples_split': 25, 'n_estimators': 500},\n",
       "  {'min_samples_leaf': 5, 'min_samples_split': 25, 'n_estimators': 1000},\n",
       "  {'min_samples_leaf': 5, 'min_samples_split': 40, 'n_estimators': 100},\n",
       "  {'min_samples_leaf': 5, 'min_samples_split': 40, 'n_estimators': 500},\n",
       "  {'min_samples_leaf': 5, 'min_samples_split': 40, 'n_estimators': 1000},\n",
       "  {'min_samples_leaf': 7, 'min_samples_split': 12, 'n_estimators': 100},\n",
       "  {'min_samples_leaf': 7, 'min_samples_split': 12, 'n_estimators': 500},\n",
       "  {'min_samples_leaf': 7, 'min_samples_split': 12, 'n_estimators': 1000},\n",
       "  {'min_samples_leaf': 7, 'min_samples_split': 25, 'n_estimators': 100},\n",
       "  {'min_samples_leaf': 7, 'min_samples_split': 25, 'n_estimators': 500},\n",
       "  {'min_samples_leaf': 7, 'min_samples_split': 25, 'n_estimators': 1000},\n",
       "  {'min_samples_leaf': 7, 'min_samples_split': 40, 'n_estimators': 100},\n",
       "  {'min_samples_leaf': 7, 'min_samples_split': 40, 'n_estimators': 500},\n",
       "  {'min_samples_leaf': 7, 'min_samples_split': 40, 'n_estimators': 1000}],\n",
       " 'split0_test_score': array([0.94941634, 0.95330739, 0.95719844, 0.95330739, 0.95330739,\n",
       "        0.95719844, 0.94941634, 0.95330739, 0.95719844, 0.95330739,\n",
       "        0.95330739, 0.94941634, 0.95330739, 0.95719844, 0.95330739,\n",
       "        0.94552529, 0.95330739, 0.95719844, 0.94552529, 0.95330739,\n",
       "        0.94941634, 0.94941634, 0.95330739, 0.95330739, 0.95330739,\n",
       "        0.95330739, 0.95330739]),\n",
       " 'split1_test_score': array([0.90272374, 0.90272374, 0.90661479, 0.89105058, 0.91050584,\n",
       "        0.91050584, 0.89883268, 0.90272374, 0.90272374, 0.89105058,\n",
       "        0.89105058, 0.89105058, 0.89494163, 0.89105058, 0.89494163,\n",
       "        0.88715953, 0.89494163, 0.90272374, 0.88715953, 0.88326848,\n",
       "        0.88326848, 0.88715953, 0.88715953, 0.89105058, 0.89105058,\n",
       "        0.87937743, 0.89105058]),\n",
       " 'split2_test_score': array([0.94921875, 0.9375    , 0.93359375, 0.93359375, 0.9375    ,\n",
       "        0.9375    , 0.92578125, 0.921875  , 0.9296875 , 0.9375    ,\n",
       "        0.94140625, 0.93359375, 0.91796875, 0.9375    , 0.9453125 ,\n",
       "        0.91796875, 0.94140625, 0.93359375, 0.91796875, 0.9375    ,\n",
       "        0.9296875 , 0.93359375, 0.93359375, 0.93359375, 0.91015625,\n",
       "        0.94140625, 0.9375    ]),\n",
       " 'split3_test_score': array([0.91764706, 0.91764706, 0.91764706, 0.9254902 , 0.90980392,\n",
       "        0.90980392, 0.90196078, 0.90980392, 0.90980392, 0.91372549,\n",
       "        0.91764706, 0.91372549, 0.90196078, 0.90196078, 0.90980392,\n",
       "        0.90588235, 0.91372549, 0.90196078, 0.90196078, 0.90980392,\n",
       "        0.90980392, 0.90588235, 0.90980392, 0.90980392, 0.90588235,\n",
       "        0.90980392, 0.90980392]),\n",
       " 'split4_test_score': array([0.90588235, 0.89411765, 0.89411765, 0.89803922, 0.89411765,\n",
       "        0.88627451, 0.87843137, 0.8745098 , 0.87843137, 0.89803922,\n",
       "        0.89411765, 0.89019608, 0.89019608, 0.89019608, 0.89019608,\n",
       "        0.89019608, 0.88235294, 0.88235294, 0.90588235, 0.89411765,\n",
       "        0.90196078, 0.89019608, 0.89803922, 0.89411765, 0.88235294,\n",
       "        0.88627451, 0.89019608]),\n",
       " 'mean_test_score': array([0.925     , 0.92109375, 0.921875  , 0.9203125 , 0.92109375,\n",
       "        0.9203125 , 0.9109375 , 0.9125    , 0.915625  , 0.91875   ,\n",
       "        0.91953125, 0.915625  , 0.91171875, 0.915625  , 0.91875   ,\n",
       "        0.909375  , 0.9171875 , 0.915625  , 0.91171875, 0.915625  ,\n",
       "        0.91484375, 0.91328125, 0.91640625, 0.91640625, 0.90859375,\n",
       "        0.9140625 , 0.91640625]),\n",
       " 'std_test_score': array([0.02049935, 0.0218468 , 0.02194994, 0.02302076, 0.02133218,\n",
       "        0.02458415, 0.02444025, 0.0256922 , 0.02650156, 0.02355039,\n",
       "        0.02483941, 0.02333731, 0.02286599, 0.02701838, 0.02594363,\n",
       "        0.02125936, 0.026884  , 0.02650946, 0.01959947, 0.02626622,\n",
       "        0.02285513, 0.02446968, 0.02408562, 0.02385836, 0.02454278,\n",
       "        0.02928765, 0.02523922]),\n",
       " 'rank_test_score': array([ 1,  3,  2,  5,  3,  5, 25, 22, 14,  8,  7, 14, 23, 14,  8, 26, 10,\n",
       "        14, 23, 14, 19, 21, 11, 11, 27, 20, 11], dtype=int32),\n",
       " 'split0_train_score': array([0.96676442, 0.96969697, 0.96969697, 0.96480938, 0.95796676,\n",
       "        0.95601173, 0.94623656, 0.94819159, 0.95014663, 0.94721408,\n",
       "        0.95503421, 0.95307918, 0.94623656, 0.95210166, 0.95014663,\n",
       "        0.94428152, 0.94232649, 0.94330401, 0.94232649, 0.94134897,\n",
       "        0.93939394, 0.93548387, 0.93548387, 0.93743891, 0.94232649,\n",
       "        0.9315738 , 0.93450635]),\n",
       " 'split1_train_score': array([0.96480938, 0.971652  , 0.971652  , 0.9599218 , 0.96285435,\n",
       "        0.96089932, 0.94819159, 0.95112414, 0.94819159, 0.95112414,\n",
       "        0.9599218 , 0.95601173, 0.95112414, 0.95112414, 0.95601173,\n",
       "        0.94037146, 0.94428152, 0.94721408, 0.94134897, 0.94232649,\n",
       "        0.94819159, 0.94819159, 0.94330401, 0.94428152, 0.93646139,\n",
       "        0.94232649, 0.93939394]),\n",
       " 'split2_train_score': array([0.96289062, 0.96777344, 0.96386719, 0.95605469, 0.95898438,\n",
       "        0.95703125, 0.9453125 , 0.94628906, 0.94726562, 0.95214844,\n",
       "        0.95214844, 0.95117188, 0.94335938, 0.94628906, 0.9453125 ,\n",
       "        0.9375    , 0.93847656, 0.9375    , 0.93457031, 0.93457031,\n",
       "        0.93359375, 0.93652344, 0.93847656, 0.93554688, 0.92871094,\n",
       "        0.93066406, 0.93066406]),\n",
       " 'split3_train_score': array([0.97073171, 0.97170732, 0.97268293, 0.96097561, 0.95804878,\n",
       "        0.95707317, 0.95121951, 0.95219512, 0.95219512, 0.94829268,\n",
       "        0.95512195, 0.95414634, 0.94731707, 0.94731707, 0.94926829,\n",
       "        0.94341463, 0.9404878 , 0.9404878 , 0.94439024, 0.94243902,\n",
       "        0.9395122 , 0.93853659, 0.93756098, 0.9404878 , 0.93560976,\n",
       "        0.93658537, 0.93756098]),\n",
       " 'split4_train_score': array([0.97170732, 0.97073171, 0.97268293, 0.96097561, 0.96      ,\n",
       "        0.95902439, 0.94926829, 0.95121951, 0.9502439 , 0.9502439 ,\n",
       "        0.95414634, 0.95414634, 0.94926829, 0.94829268, 0.94731707,\n",
       "        0.94146341, 0.9404878 , 0.94243902, 0.9404878 , 0.94341463,\n",
       "        0.93756098, 0.93756098, 0.93658537, 0.93560976, 0.93268293,\n",
       "        0.93365854, 0.93365854]),\n",
       " 'mean_train_score': array([0.96738069, 0.97031229, 0.9701164 , 0.96054742, 0.95957085,\n",
       "        0.95800797, 0.94804569, 0.94980389, 0.94960857, 0.94980465,\n",
       "        0.95527455, 0.95371109, 0.94746109, 0.94902493, 0.94961124,\n",
       "        0.94140621, 0.94121204, 0.94218898, 0.94062477, 0.94081989,\n",
       "        0.93965049, 0.93925929, 0.93828216, 0.93867297, 0.9351583 ,\n",
       "        0.93496165, 0.93515677]),\n",
       " 'std_train_score': array([0.00337938, 0.00146569, 0.0033094 , 0.00279668, 0.00179996,\n",
       "        0.00174389, 0.00211341, 0.00220991, 0.00172514, 0.00181243,\n",
       "        0.00255826, 0.00158232, 0.00264682, 0.0022276 , 0.00360868,\n",
       "        0.00239306, 0.00195937, 0.00320743, 0.00329467, 0.00319253,\n",
       "        0.00477673, 0.00458108, 0.00270135, 0.00332951, 0.00449401,\n",
       "        0.00420766, 0.00305241])}"
      ]
     },
     "execution_count": 47,
     "metadata": {},
     "output_type": "execute_result"
    }
   ],
   "source": [
    "gs.cv_results_"
   ]
  },
  {
   "cell_type": "code",
   "execution_count": 48,
   "metadata": {},
   "outputs": [
    {
     "data": {
      "text/plain": [
       "Text(0, 0.5, 'Mean Accuracy')"
      ]
     },
     "execution_count": 48,
     "metadata": {},
     "output_type": "execute_result"
    },
    {
     "data": {
      "image/png": "[encoded data removed]",
      "text/plain": [
       "<Figure size 1440x720 with 1 Axes>"
      ]
     },
     "metadata": {},
     "output_type": "display_data"
    }
   ],
   "source": [
    "plt.figure(figsize=(20,10))\n",
    "plt.plot([param['min_samples_split'] for param in gs.cv_results_['params']],\n",
    "         gs.cv_results_['mean_test_score'])\n",
    "plt.xlabel('Min Samples Split')\n",
    "plt.ylabel('Mean Accuracy')"
   ]
  }
 ],
 "metadata": {
  "kernelspec": {
   "display_name": "Python 3",
   "language": "python",
   "name": "python3"
  },
  "language_info": {
   "codemirror_mode": {
    "name": "ipython",
    "version": 3
   },
   "file_extension": ".py",
   "mimetype": "text/x-python",
   "name": "python",
   "nbconvert_exporter": "python",
   "pygments_lexer": "ipython3",
   "version": "3.7.3"
  }
 },
 "nbformat": 4,
 "nbformat_minor": 2
}
