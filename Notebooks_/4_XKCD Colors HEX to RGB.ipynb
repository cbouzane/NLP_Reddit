{
 "cells": [
  {
   "cell_type": "markdown",
   "metadata": {},
   "source": [
    "### Imports "
   ]
  },
  {
   "cell_type": "code",
   "execution_count": 1,
   "metadata": {},
   "outputs": [],
   "source": [
    "from sklearn.cluster import KMeans\n",
    "import numpy as np\n",
    "import cv2\n",
    "from collections import Counter\n",
    "from skimage.color import rgb2lab, deltaE_cie76\n",
    "import os\n",
    "\n",
    "from time import sleep\n",
    "from tqdm import tqdm\n",
    "\n",
    "%matplotlib inline\n",
    "import matplotlib.pyplot as plt\n",
    "import pandas as pd"
   ]
  },
  {
   "cell_type": "code",
   "execution_count": 2,
   "metadata": {},
   "outputs": [],
   "source": [
    "import pandas as pd\n",
    "import numpy as np\n",
    "import matplotlib.pyplot as plt\n",
    "import seaborn as sns\n",
    "from sklearn.neighbors import KNeighborsClassifier\n",
    "from sklearn.model_selection import train_test_split, cross_val_score\n",
    "from sklearn.preprocessing import StandardScaler\n",
    "from sklearn.datasets import load_iris\n",
    "\n",
    "%matplotlib inline"
   ]
  },
  {
   "cell_type": "code",
   "execution_count": 3,
   "metadata": {},
   "outputs": [],
   "source": [
    "# this function was created by Karan Bhanot, technical writer on Medium, in his \n",
    "# blog post author \"Color Identification in Images\"\n",
    "# (https://towardsdatascience.com/color-identification-in-images-machine-learning-application-b26e770c4c71)\n",
    "\n",
    "def HEX2RGB(value):\n",
    "    value = value.lstrip('#')\n",
    "    lv = len(value)\n",
    "    return tuple(int(value[i:i + lv // 3], 16) for i in range(0, lv, lv // 3))"
   ]
  },
  {
   "cell_type": "code",
   "execution_count": 14,
   "metadata": {},
   "outputs": [
    {
     "data": {
      "text/plain": [
       "(21, 176, 26)"
      ]
     },
     "execution_count": 14,
     "metadata": {},
     "output_type": "execute_result"
    }
   ],
   "source": [
    "HEX2RGB('#15b01a')"
   ]
  },
  {
   "cell_type": "code",
   "execution_count": 15,
   "metadata": {},
   "outputs": [],
   "source": [
    "hex_colors = {\n",
    "    'LIGHT GREEN' : '#96f97b',\n",
    "    'GREEN': '#15b01a',\n",
    "    'DARK GREEN' : '#033500',\n",
    "    'LIGHT BLUE' : '#95d0fc',\n",
    "    'BLUE': '#2242c7',\n",
    "    'DARK BLUE' : '#00035b',\n",
    "    'LIGHT YELLOW' : '#fffe7a',\n",
    "    'YELLOW': '#ffff14',\n",
    "    'DARK YELLOW' : '#d5b60a',\n",
    "    'ORANGE' : '#f97306',\n",
    "    'LIGHT RED' : '#ff474c',\n",
    "    'RED' : '#e50000',\n",
    "    'DARK RED' : '#840000',\n",
    "    'LIGHT PURPLE' : '#bf77f6', \n",
    "    'PURPLE':'#7e1e9c', \n",
    "    'DARK PURPLE' : '#35063e',\n",
    "    'LIGHT PINK' : '#ffd1df',\n",
    "    'PINK' : '#ff81c0',\n",
    "    'DARK PINK' : '#cb416b'   \n",
    "}"
   ]
  },
  {
   "cell_type": "code",
   "execution_count": 17,
   "metadata": {
    "scrolled": true
   },
   "outputs": [],
   "source": [
    "for i in list(hex_colors.keys()): \n",
    "    hex_colors[i] = HEX2RGB(hex_colors[i])"
   ]
  },
  {
   "cell_type": "code",
   "execution_count": 18,
   "metadata": {
    "scrolled": true
   },
   "outputs": [
    {
     "data": {
      "text/plain": [
       "{'LIGHT GREEN': (150, 249, 123),\n",
       " 'GREEN': (21, 176, 26),\n",
       " 'DARK GREEN': (3, 53, 0),\n",
       " 'LIGHT BLUE': (149, 208, 252),\n",
       " 'BLUE': (34, 66, 199),\n",
       " 'DARK BLUE': (0, 3, 91),\n",
       " 'LIGHT YELLOW': (255, 254, 122),\n",
       " 'YELLOW': (255, 255, 20),\n",
       " 'DARK YELLOW': (213, 182, 10),\n",
       " 'ORANGE': (249, 115, 6),\n",
       " 'LIGHT RED': (255, 71, 76),\n",
       " 'RED': (229, 0, 0),\n",
       " 'DARK RED': (132, 0, 0),\n",
       " 'LIGHT PURPLE': (191, 119, 246),\n",
       " 'PURPLE': (126, 30, 156),\n",
       " 'DARK PURPLE': (53, 6, 62),\n",
       " 'LIGHT PINK': (255, 209, 223),\n",
       " 'PINK': (255, 129, 192),\n",
       " 'DARK PINK': (203, 65, 107)}"
      ]
     },
     "execution_count": 18,
     "metadata": {},
     "output_type": "execute_result"
    }
   ],
   "source": [
    "hex_colors"
   ]
  }
 ],
 "metadata": {
  "kernelspec": {
   "display_name": "Python 3",
   "language": "python",
   "name": "python3"
  },
  "language_info": {
   "codemirror_mode": {
    "name": "ipython",
    "version": 3
   },
   "file_extension": ".py",
   "mimetype": "text/x-python",
   "name": "python",
   "nbconvert_exporter": "python",
   "pygments_lexer": "ipython3",
   "version": "3.7.4"
  }
 },
 "nbformat": 4,
 "nbformat_minor": 2
}
