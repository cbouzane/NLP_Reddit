{
 "cells": [
  {
   "cell_type": "code",
   "execution_count": 1,
   "metadata": {},
   "outputs": [
    {
     "data": {
      "text/plain": [
       "<matplotlib.image.AxesImage at 0x1a283c3790>"
      ]
     },
     "execution_count": 1,
     "metadata": {},
     "output_type": "execute_result"
    }
   ],
   "source": [
    "# import the necessary packages\n",
    "from sklearn.cluster import KMeans\n",
    "import matplotlib.pyplot as plt\n",
    "import argparse\n",
    "import cv2\n",
    " \n",
    "# load the image and convert it from BGR to RGB so that\n",
    "# we can dispaly it with matplotlib\n",
    "image = cv2.imread(\"./sample_images/19970701.jpg\")\n",
    "image = cv2.cvtColor(image, cv2.COLOR_BGR2RGB)\n",
    " \n",
    "# show our image\n",
    "plt.figure()\n",
    "plt.axis(\"off\")\n",
    "plt.imshow(image)"
   ]
  },
  {
   "cell_type": "code",
   "execution_count": 2,
   "metadata": {},
   "outputs": [],
   "source": [
    "image = image.reshape((image.shape[0] * image.shape[1], 3))"
   ]
  },
  {
   "cell_type": "code",
   "execution_count": 3,
   "metadata": {},
   "outputs": [
    {
     "data": {
      "text/plain": [
       "KMeans(algorithm='auto', copy_x=True, init='k-means++', max_iter=300,\n",
       "       n_clusters=8, n_init=10, n_jobs=None, precompute_distances='auto',\n",
       "       random_state=None, tol=0.0001, verbose=0)"
      ]
     },
     "execution_count": 3,
     "metadata": {},
     "output_type": "execute_result"
    }
   ],
   "source": [
    "clt = KMeans(n_clusters = 8)\n",
    "clt.fit(image)"
   ]
  },
  {
   "cell_type": "code",
   "execution_count": 4,
   "metadata": {},
   "outputs": [],
   "source": [
    "import numpy as np\n",
    "import cv2\n",
    " \n",
    "def centroid_histogram(clt):\n",
    "# grab the number of different clusters and create a histogram\n",
    "# based on the number of pixels assigned to each cluster\n",
    "    numLabels = np.arange(0, len(np.unique(clt.labels_)) + 1)\n",
    "    (hist, _) = np.histogram(clt.labels_, bins = numLabels)\n",
    " \n",
    "# normalize the histogram, such that it sums to one\n",
    "    hist = hist.astype(\"float\")\n",
    "    hist /= hist.sum()\n",
    " \n",
    "# return the histogram\n",
    "    return hist"
   ]
  },
  {
   "cell_type": "code",
   "execution_count": 5,
   "metadata": {},
   "outputs": [],
   "source": [
    "def plot_colors(hist, centroids):\n",
    "# initialize the bar chart representing the relative frequency\n",
    "# of each of the colors\n",
    "    bar = np.zeros((50, 300, 3), dtype = \"uint8\")\n",
    "    startX = 0\n",
    " \n",
    "# loop over the percentage of each cluster and the color of\n",
    "# each cluster\n",
    "    for (percent, color) in zip(hist, centroids):\n",
    "# plot the relative percentage of each cluster\n",
    "        endX = startX + (percent * 300)\n",
    "        cv2.rectangle(bar, (int(startX), 0), (int(endX), 50),\n",
    "            color.astype(\"uint8\").tolist(), -1)\n",
    "        startX = endX\n",
    "        print(percent, color)\n",
    "# return the bar chart\n",
    "    return bar"
   ]
  },
  {
   "cell_type": "code",
   "execution_count": 6,
   "metadata": {},
   "outputs": [
    {
     "name": "stdout",
     "output_type": "stream",
     "text": [
      "0.2558901338313103 [119.49297445  70.52709854  63.10824209]\n",
      "0.08373793962029256 [208.64205443 199.82446364 200.55976595]\n",
      "0.13872549019607844 [118.50787689 167.73902562 181.14469922]\n",
      "0.06507936507936508 [127.37577714 209.50406504  29.43173123]\n",
      "0.025381263616557733 [194.57699387  17.9297546   54.81349693]\n",
      "0.1668456271397448 [ 57.72720489 149.00153911 166.13707383]\n",
      "0.17925614690320574 [76.4946344  49.2955207  46.99574228]\n",
      "0.08508403361344538 [150.75168888 112.35703852 102.99023188]\n"
     ]
    },
    {
     "data": {
      "image/png": "[encoded data removed]",
      "text/plain": [
       "<Figure size 432x288 with 1 Axes>"
      ]
     },
     "metadata": {
      "needs_background": "light"
     },
     "output_type": "display_data"
    }
   ],
   "source": [
    "# build a histogram of clusters and then create a figure\n",
    "# representing the number of pixels labeled to each color\n",
    "hist = centroid_histogram(clt)\n",
    "bar = plot_colors(hist, clt.cluster_centers_)\n",
    " \n",
    "# show our color bart\n",
    "plt.figure()\n",
    "plt.axis(\"off\")\n",
    "plt.imshow(bar)\n",
    "plt.show()"
   ]
  },
  {
   "cell_type": "code",
   "execution_count": 8,
   "metadata": {},
   "outputs": [
    {
     "name": "stdout",
     "output_type": "stream",
     "text": [
      "0.2558901338313103 [119.49297445  70.52709854  63.10824209]\n",
      "0.08373793962029256 [208.64205443 199.82446364 200.55976595]\n",
      "0.13872549019607844 [118.50787689 167.73902562 181.14469922]\n",
      "0.06507936507936508 [127.37577714 209.50406504  29.43173123]\n",
      "0.025381263616557733 [194.57699387  17.9297546   54.81349693]\n",
      "0.1668456271397448 [ 57.72720489 149.00153911 166.13707383]\n",
      "0.17925614690320574 [76.4946344  49.2955207  46.99574228]\n",
      "0.08508403361344538 [150.75168888 112.35703852 102.99023188]\n"
     ]
    }
   ],
   "source": [
    "centroid_histogram(clt)\n",
    "plot_colors(hist, clt.cluster_centers_);\n"
   ]
  }
 ],
 "metadata": {
  "kernelspec": {
   "display_name": "Python 3",
   "language": "python",
   "name": "python3"
  },
  "language_info": {
   "codemirror_mode": {
    "name": "ipython",
    "version": 3
   },
   "file_extension": ".py",
   "mimetype": "text/x-python",
   "name": "python",
   "nbconvert_exporter": "python",
   "pygments_lexer": "ipython3",
   "version": "3.7.4"
  }
 },
 "nbformat": 4,
 "nbformat_minor": 2
}
